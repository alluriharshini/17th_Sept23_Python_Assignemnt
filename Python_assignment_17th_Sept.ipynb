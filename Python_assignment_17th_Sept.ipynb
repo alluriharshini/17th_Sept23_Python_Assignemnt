{
 "cells": [
  {
   "cell_type": "markdown",
   "id": "fb1b1c1e-984a-465f-9871-8fa6d1df6f66",
   "metadata": {},
   "source": [
    "1.Write a Python program to print numbers from 1 to 10 using a for loop."
   ]
  },
  {
   "cell_type": "code",
   "execution_count": 12,
   "id": "b50381ae-4cd7-40b3-9362-37de8becb5a4",
   "metadata": {},
   "outputs": [
    {
     "name": "stdout",
     "output_type": "stream",
     "text": [
      "Numbers from 1 to 100 are : [1, 2, 3, 4, 5, 6, 7, 8, 9, 10]\n"
     ]
    }
   ],
   "source": [
    "n=10\n",
    "num=[]\n",
    "for i in range(1,n+1):\n",
    "    num.append(i)\n",
    "print(\"Numbers from 1 to 100 are :\",num)    "
   ]
  },
  {
   "cell_type": "markdown",
   "id": "7d4fae01-5023-4420-ad93-127caa4798ff",
   "metadata": {},
   "source": [
    "2.Explain the difference between a for loop and a while loop in Python."
   ]
  },
  {
   "cell_type": "markdown",
   "id": "92ad2168-2d99-48cc-b16a-993cadccbd99",
   "metadata": {},
   "source": [
    "In Python, both for loops and while loops are used for iterative control flow. We can differentiate For loop and while loop on Initialization and condition, Control flow and termination.\n",
    "\n",
    "Loop Initialization and Condition:\n",
    "For Loop: A for loop is primarily used for iterating over a sequence (such as a list, tuple, string, or range). It automatically iterates through each element in the sequence and executes the loop body for each item in the sequence. The loop condition is implicit and defined by the sequence itself.\n",
    "While Loop: A while loop is used when you want to execute a block of code repeatedly as long as a certain condition is True. The loop condition is explicitly defined by the programmer.\n",
    "\n",
    "Control Flow:\n",
    "For Loop: for loops are generally preferred when you know in advance how many times you want to iterate, and you have a sequence to iterate over. They provide a more structured and predictable way to iterate through elements.\n",
    "While Loop: while loops are more flexible as they allow you to create loops with complex conditions. They are suitable when you want to continue iterating until a specific condition is met or when you don't know the exact number of iterations in advance.\n",
    "\n",
    "Termination:\n",
    "For Loop: A for loop terminates when it has iterated through all the elements in the sequence or when you explicitly break out of it using the break statement.\n",
    "While Loop: A while loop continues executing as long as the specified condition remains True. If the condition never becomes False or if you forget to include code that changes the condition, it can result in an infinite loop, which may lead to the program becoming unresponsive."
   ]
  },
  {
   "cell_type": "markdown",
   "id": "e4c6b61d-e0c9-4240-bab4-311997eadafd",
   "metadata": {},
   "source": [
    "3.Write a Python program to calculate the sum of all numbers from 1 to 100 using a for loop"
   ]
  },
  {
   "cell_type": "code",
   "execution_count": 13,
   "id": "72e4b503-3b8e-48a4-b8c3-b36748fcdf1e",
   "metadata": {},
   "outputs": [
    {
     "name": "stdout",
     "output_type": "stream",
     "text": [
      "Sum of all numbers from 1 to 100 is: 5050\n"
     ]
    }
   ],
   "source": [
    "sum=0\n",
    "n=100\n",
    "for i in range(1,n+1):\n",
    "    sum=i+sum\n",
    "print(\"Sum of all numbers from 1 to 100 is:\",sum)"
   ]
  },
  {
   "cell_type": "markdown",
   "id": "3f965037-f1ab-4e5d-8f61-04b4a536719d",
   "metadata": {},
   "source": [
    "4.How do you iterate through a list using a for loop in Python?"
   ]
  },
  {
   "cell_type": "markdown",
   "id": "161b5cfb-de96-4895-82fe-ad6044227ba5",
   "metadata": {},
   "source": [
    "In Python, We can iterate through a list using a for loop by using the following syntax:\n",
    "\n",
    "for item in my_list:\n",
    "    # Code to be executed for each item in the list\n",
    "    \n",
    "Explanation for the above syntax:\n",
    "\n",
    "for: for is the keyword used to start a for loop.\n",
    "\n",
    "item: iteam is a variable that you choose to represent each item in the list during each iteration. We can use any valid variable name here.\n",
    "\n",
    "in: in keyword is used to specify the list or iterable you want to loop through.\n",
    "\n",
    "my_list: my_list is the name of the list you want to iterate through.\n",
    "\n",
    ":: The colon marks the beginning of the indented block of code that will be executed for each item in the list.\n",
    "\n",
    "Inside the indented block, We can perform operations or calculations using the item variable, which will take on each value from the list in each iteration of the loop\n",
    "\n",
    "Example : \n",
    "n=10\n",
    "for i in range(1,n+1):\n",
    "    print(i)"
   ]
  },
  {
   "cell_type": "markdown",
   "id": "559bddc7-5436-4491-a0c9-e3087ec7150e",
   "metadata": {},
   "source": [
    "5.Write a Python program to find the product of all elements in a list using a for loop."
   ]
  },
  {
   "cell_type": "code",
   "execution_count": 14,
   "id": "0af411e3-9610-47f8-99b6-5a8164d955e3",
   "metadata": {},
   "outputs": [
    {
     "name": "stdout",
     "output_type": "stream",
     "text": [
      "Product of all elements in list [1, 2, 3, 4] is : 24\n"
     ]
    }
   ],
   "source": [
    "my_list=[1,2,3,4]\n",
    "product=1\n",
    "for i in my_list:\n",
    "    product=product*i\n",
    "print(f\"Product of all elements in list {my_list} is :\",product)    "
   ]
  },
  {
   "cell_type": "markdown",
   "id": "11b676df-243f-4669-b555-b34d0eedead5",
   "metadata": {},
   "source": [
    "6.Create a Python program that prints all even numbers from 1 to 20 using a for loop."
   ]
  },
  {
   "cell_type": "code",
   "execution_count": 17,
   "id": "73352017-f0f2-434f-9e1b-4ec4b7a45659",
   "metadata": {},
   "outputs": [
    {
     "name": "stdout",
     "output_type": "stream",
     "text": [
      "Even Numbers from 1 to 20 are [2, 4, 6, 8, 10, 12, 14, 16, 18, 20]\n"
     ]
    }
   ],
   "source": [
    "even_numbers=[]\n",
    "last=20\n",
    "for i in range(1,last+1):\n",
    "       if i%2==0:\n",
    "            even_numbers.append(i)\n",
    "            \n",
    "print(\"Even Numbers from 1 to 20 are\",even_numbers)            "
   ]
  },
  {
   "cell_type": "markdown",
   "id": "83def663-62e7-466f-b18e-9f133444ba6d",
   "metadata": {},
   "source": [
    "7.Write a Python program that calculates the factorial of a number using a for loop."
   ]
  },
  {
   "cell_type": "code",
   "execution_count": 21,
   "id": "43701135-ab29-4431-b2a2-a6d02e87f1a7",
   "metadata": {},
   "outputs": [
    {
     "name": "stdin",
     "output_type": "stream",
     "text": [
      "Enter a number:  3\n"
     ]
    },
    {
     "name": "stdout",
     "output_type": "stream",
     "text": [
      "The factorial of 3 is 6\n"
     ]
    }
   ],
   "source": [
    "num = int(input(\"Enter a number: \"))\n",
    "factorial = 1\n",
    "if num < 0:\n",
    "    print(\"Factorial is not defined for negative numbers.\")\n",
    "elif num == 0:\n",
    "    print(\"The factorial of 0 is 1\")\n",
    "else:\n",
    "    for i in range(1, num + 1):\n",
    "        factorial = factorial*i\n",
    "    print(f\"The factorial of {num} is {factorial}\")\n",
    "\n",
    "    "
   ]
  },
  {
   "cell_type": "markdown",
   "id": "ee9b2318-0147-4d01-b656-93fa4aacf0f0",
   "metadata": {},
   "source": [
    "8.How can you iterate through the characters of a string using a for loop in Python?"
   ]
  },
  {
   "cell_type": "code",
   "execution_count": 7,
   "id": "b72eb241-11f7-49a3-b1c6-f5eca3b0971a",
   "metadata": {},
   "outputs": [
    {
     "name": "stdout",
     "output_type": "stream",
     "text": [
      "P\n",
      "W\n",
      "S\n",
      "K\n",
      "I\n",
      "L\n",
      "L\n",
      "S\n"
     ]
    }
   ],
   "source": [
    "my_string = \"PWSKILLS\"\n",
    "for char in my_string:\n",
    "    print(char)\n",
    "# Here's how this works:\n",
    "\n",
    "# for: For keyword is used to start a for loop.\n",
    "\n",
    "# char: char is a variable that I choosed to represent each character in the string during each iteration. \n",
    "\n",
    "# in: in keyword is used to specify the string I want to loop through.\n",
    "\n",
    "# my_string: This is the name of the string I want to iterate through. Replace it with the actual string you want to process.\n",
    "\n",
    "# : The colon marks the beginning of the indented block of code that will be executed for each character in the string.\n",
    "\n",
    "# Inside the indented block, each iteration, the char variable takes on the value of the current character, which is then printed to the console."
   ]
  },
  {
   "cell_type": "markdown",
   "id": "798437d0-c137-4f08-8e38-88f45a341475",
   "metadata": {},
   "source": [
    "9.Write a Python program to find the largest number in a list using a for loop."
   ]
  },
  {
   "cell_type": "code",
   "execution_count": 7,
   "id": "baa8adc9-2dea-419c-8659-acb812f9c6c1",
   "metadata": {},
   "outputs": [
    {
     "name": "stdout",
     "output_type": "stream",
     "text": [
      "The largest number is 213\n",
      "The largest numbers are at index positions [4]\n"
     ]
    }
   ],
   "source": [
    "my_list = [3, 2, 6, 89, 213]\n",
    "result = []\n",
    "\n",
    "if len(my_list) == 0:\n",
    "    print(\"List is empty\")\n",
    "elif len(my_list) == 1:\n",
    "    print(f\"The largest number is {my_list[0]}\")\n",
    "else:\n",
    "    largest = my_list[0]\n",
    "    \n",
    "    for i in range(1, len(my_list)):\n",
    "        if my_list[i] > largest:\n",
    "            largest = my_list[i]\n",
    "            result = [i]  # Reseting the result list with a single index\n",
    "        elif my_list[i] == largest:\n",
    "            result.append(i)  # Appending index to the result list\n",
    "\n",
    "    print(f\"The largest number is {largest}\")\n",
    "    print(f\"The largest numbers are at index positions {result}\")\n"
   ]
  },
  {
   "cell_type": "markdown",
   "id": "eab14e2e-93e6-4d81-9e09-be34ca97638c",
   "metadata": {},
   "source": [
    "10. Create a Python program that prints the Fibonacci sequence up to a specified limit using a for loop."
   ]
  },
  {
   "cell_type": "code",
   "execution_count": 38,
   "id": "ee491a11-ae91-41c0-a696-24842226ad40",
   "metadata": {},
   "outputs": [
    {
     "name": "stdin",
     "output_type": "stream",
     "text": [
      "Enter a number:  5\n"
     ]
    },
    {
     "name": "stdout",
     "output_type": "stream",
     "text": [
      "0\n",
      "1\n",
      "1\n",
      "2\n",
      "3\n"
     ]
    }
   ],
   "source": [
    "n = int(input(\"Enter a number: \"))\n",
    "a, b = 0, 1\n",
    "\n",
    "if n >= 1:\n",
    "    print(a)\n",
    "\n",
    "if n >= 2:\n",
    "    print(b)\n",
    "\n",
    "for i in range(2, n):\n",
    "    a, b = b, a + b\n",
    "    print(b)\n"
   ]
  },
  {
   "cell_type": "markdown",
   "id": "db19c931-eebb-4c9c-95a5-12a28b59198f",
   "metadata": {},
   "source": [
    "11.Write a Python program to count the number of vowels in a given string using a for loop."
   ]
  },
  {
   "cell_type": "code",
   "execution_count": 47,
   "id": "fb85243f-522c-4a8c-aed4-fc4d0426ff7b",
   "metadata": {},
   "outputs": [
    {
     "name": "stdout",
     "output_type": "stream",
     "text": [
      "Numbers of vowels in 'namithapriya' are:  5\n"
     ]
    }
   ],
   "source": [
    "string=\"namithapriya\"\n",
    "count=0\n",
    "vowels=('a','e','i','o','u')\n",
    "for char in string:\n",
    "    vowels=('a','e','i','o','u')\n",
    "    if char.lower() in vowels:\n",
    "        count +=1    \n",
    "\n",
    "print(f\"Numbers of vowels in '{string}' are: \",count)        "
   ]
  },
  {
   "cell_type": "markdown",
   "id": "659168cd-771c-4d37-b7c9-640e78651b03",
   "metadata": {},
   "source": [
    "12. Create a Python program that generates a multiplication table for a given number using a for loop."
   ]
  },
  {
   "cell_type": "code",
   "execution_count": 49,
   "id": "72ce63dd-293d-4a09-8cb1-bdbb4b951d8d",
   "metadata": {},
   "outputs": [
    {
     "name": "stdin",
     "output_type": "stream",
     "text": [
      "Enter the number: 4\n",
      "Enter the limit: 10\n"
     ]
    },
    {
     "name": "stdout",
     "output_type": "stream",
     "text": [
      "4 * 1 = 4\n",
      "4 * 2 = 8\n",
      "4 * 3 = 12\n",
      "4 * 4 = 16\n",
      "4 * 5 = 20\n",
      "4 * 6 = 24\n",
      "4 * 7 = 28\n",
      "4 * 8 = 32\n",
      "4 * 9 = 36\n",
      "4 * 10 = 40\n"
     ]
    }
   ],
   "source": [
    "num=int(input(\"Enter the number:\"))\n",
    "limit=int(input(\"Enter the limit:\"))\n",
    "for i in range(1,limit+1):\n",
    "    product=num*i\n",
    "    print(f\"{num} * {i} =\",product )\n"
   ]
  },
  {
   "cell_type": "markdown",
   "id": "1acb913c-d9af-4543-a4d2-4b0a105dfdf7",
   "metadata": {},
   "source": [
    "13.Write a Python program to reverse a list using a for loop."
   ]
  },
  {
   "cell_type": "code",
   "execution_count": 2,
   "id": "10a1afa6-a6d1-47dc-9410-b64561a7a501",
   "metadata": {},
   "outputs": [
    {
     "name": "stdout",
     "output_type": "stream",
     "text": [
      "inihsraH\n"
     ]
    }
   ],
   "source": [
    "my_string='Harshini'\n",
    "reverse=''\n",
    "for char in my_string:\n",
    "    reverse=char+reverse\n",
    "print(reverse)    \n",
    "    "
   ]
  },
  {
   "cell_type": "markdown",
   "id": "61f01f50-917d-4209-a8f7-accb48fb27d6",
   "metadata": {},
   "source": [
    "14.Write a Python program to find the common elements between two lists using a for loop."
   ]
  },
  {
   "cell_type": "code",
   "execution_count": 6,
   "id": "53da1036-a26d-41ae-a6a7-2860c2bc93df",
   "metadata": {},
   "outputs": [
    {
     "name": "stdout",
     "output_type": "stream",
     "text": [
      "[2, 3, 4, 11]\n"
     ]
    }
   ],
   "source": [
    "list_1=[1,2,3,4,22,11,32]\n",
    "list_2=[2,3,44,11,4,99]\n",
    "common=[]\n",
    "for i in list_1:\n",
    "    if i in list_2:\n",
    "        common.append(i)\n",
    "print(common)        "
   ]
  },
  {
   "cell_type": "markdown",
   "id": "ca864fb3-7a4d-434c-8cbe-9b95a924febf",
   "metadata": {},
   "source": [
    "15.Explain how to use a for loop to iterate through the keys and values of a dictionary in Python."
   ]
  },
  {
   "cell_type": "code",
   "execution_count": 11,
   "id": "136e1054-4665-416b-869f-12473b8917a3",
   "metadata": {},
   "outputs": [
    {
     "name": "stdout",
     "output_type": "stream",
     "text": [
      "key: name, value: Harshini\n",
      "key: age, value: 25\n",
      "key: course, value: Datascience\n"
     ]
    }
   ],
   "source": [
    "'''We can use For loop to iterate through the keys and values of a dictionary in Python using '.items()' method.\n",
    "Example:'''\n",
    "'''Here we are iterating through each key-value pair and in each iteration we can access \n",
    "both the key and value separately and returing a list of key-value pairs by using my_dict.items()'''    \n",
    "my_dict={'name':'Harshini','age': 25,'course':'Datascience'}\n",
    "for key,value in my_dict.items():\n",
    "    print(f\"key: {key}, value: {value}\")\n"
   ]
  },
  {
   "cell_type": "markdown",
   "id": "12698dad-a599-4a82-bd8c-d9902ea85f0b",
   "metadata": {},
   "source": [
    "16.Write a Python program to find the GCD (Greatest Common Divisor) of two numbers using a for loop."
   ]
  },
  {
   "cell_type": "code",
   "execution_count": 12,
   "id": "e000ad66-8576-40c2-bee1-ed8b0022a735",
   "metadata": {},
   "outputs": [
    {
     "name": "stdin",
     "output_type": "stream",
     "text": [
      "Enter the first number:  44\n",
      "Enter the second number:  3\n"
     ]
    },
    {
     "name": "stdout",
     "output_type": "stream",
     "text": [
      "The GCD of 44 and 3 is 1\n"
     ]
    }
   ],
   "source": [
    "# Input two numbers\n",
    "num1 = int(input(\"Enter the first number: \"))\n",
    "num2 = int(input(\"Enter the second number: \"))\n",
    "#the minimum of the two numbers\n",
    "min_num = min(num1, num2)\n",
    "# variable to store the GCD\n",
    "gcd = 1\n",
    "# Inside the for loop, we check if both num1 and num2 are divisible by the i and replace gcd\n",
    "for i in range(1, min_num + 1):\n",
    "    #i both num1 and num1 are divisible by  them it is a factor value in that the max is the GCD\n",
    "    if num1 % i == 0 and num2 % i == 0:\n",
    "        gcd = i\n",
    "# Print the GCD\n",
    "print(f\"The GCD of {num1} and {num2} is {gcd}\")"
   ]
  },
  {
   "cell_type": "markdown",
   "id": "bd8905af-e5ca-4a62-9ffd-2ee6f8b6d7ad",
   "metadata": {},
   "source": [
    "17.Create a Python program that checks if a string is a palindrome using a for loop."
   ]
  },
  {
   "cell_type": "code",
   "execution_count": 27,
   "id": "eb300e01-2c90-44df-8c8d-0806aecf776e",
   "metadata": {},
   "outputs": [
    {
     "name": "stdout",
     "output_type": "stream",
     "text": [
      "The string 'HaH'is palindrome\n"
     ]
    }
   ],
   "source": [
    "my_string='HaH'\n",
    "reverse=''\n",
    "for char in my_string:\n",
    "    reverse=char+reverse\n",
    "if my_string==reverse:\n",
    "        print(f\"The string '{my_string}'is palindrome\")\n",
    "else:\n",
    "        print(f\"The string '{my_string}' is not palindrome\")\n"
   ]
  },
  {
   "cell_type": "markdown",
   "id": "6238c371-57bb-4619-83ec-30ba481d48ed",
   "metadata": {},
   "source": [
    "18.Write a Python program to remove duplicates from a list using a for loop."
   ]
  },
  {
   "cell_type": "code",
   "execution_count": 29,
   "id": "e04844e6-a982-4405-a750-96f120c550ed",
   "metadata": {},
   "outputs": [
    {
     "name": "stdout",
     "output_type": "stream",
     "text": [
      "list after duplicates removed from '[1, 2, 3, 1, 2, 3, 4, 5, 64, 5]' is : [1, 2, 3, 4, 5, 64]\n"
     ]
    }
   ],
   "source": [
    "my_list=[1,2,3,1,2,3,4,5,64,5]\n",
    "duplicates_removed_inmylist=[]\n",
    "for i in my_list:\n",
    "    if i not in duplicates_removed_inmylist:\n",
    "        duplicates_removed_inmylist.append(i)\n",
    "print(f\"list after duplicates removed from '{my_list}' is :\",duplicates_removed_inmylist)        "
   ]
  },
  {
   "cell_type": "markdown",
   "id": "a96e506d-5591-4f3f-992c-14786eb331d2",
   "metadata": {},
   "source": [
    "19.Create a Python program that counts the number of words in a sentence using a for loop."
   ]
  },
  {
   "cell_type": "code",
   "execution_count": 25,
   "id": "4dc9f697-ddf8-4530-83dd-398fdeb9150e",
   "metadata": {},
   "outputs": [
    {
     "name": "stdout",
     "output_type": "stream",
     "text": [
      "The number of words in the sentence 'Harshini is a good person' is: 21\n"
     ]
    }
   ],
   "source": [
    "my_sentence='Harshini is a good person'\n",
    "count=0\n",
    "for i in my_sentence:\n",
    "    if i!=' ':\n",
    "        #here we are not counting space as a word and excluding it and counting the number of words.\n",
    "        count+=1\n",
    "\n",
    "print(f\"The number of words in the sentence '{my_sentence}' is:\",count)    "
   ]
  },
  {
   "cell_type": "markdown",
   "id": "d28d04e9-b30e-4ef1-b898-d5dc76ea01a3",
   "metadata": {},
   "source": [
    "20.Write a Python program to find the sum of all odd numbers from 1 to 50 using a for loop."
   ]
  },
  {
   "cell_type": "code",
   "execution_count": 26,
   "id": "e4fe4186-86fa-4dee-bf87-8afb3b7585e4",
   "metadata": {},
   "outputs": [
    {
     "name": "stdout",
     "output_type": "stream",
     "text": [
      "The sum of all odd numbers from 1 to 50 is 625\n"
     ]
    }
   ],
   "source": [
    "last=50\n",
    "sum_odd=0\n",
    "for i in range(1,last+1):\n",
    "    if i%2!=0:\n",
    "        sum_odd+=i\n",
    "print('The sum of all odd numbers from 1 to 50 is',sum_odd)        \n",
    "        "
   ]
  },
  {
   "cell_type": "markdown",
   "id": "bd185687-cd0f-40c5-850c-b8966863cb8f",
   "metadata": {},
   "source": [
    "21.Write a Python program that checks if a given year is a leap year using a for loop.\n"
   ]
  },
  {
   "cell_type": "code",
   "execution_count": 28,
   "id": "06d9fb02-9171-4a43-b880-4d7028944c81",
   "metadata": {},
   "outputs": [
    {
     "name": "stdin",
     "output_type": "stream",
     "text": [
      "Enter a year:  2022\n"
     ]
    },
    {
     "name": "stdout",
     "output_type": "stream",
     "text": [
      "The 2022 year is not leap year\n"
     ]
    }
   ],
   "source": [
    "year=int(input(\"Enter a year: \"))\n",
    "is_leap_year=False\n",
    "if year%4==0 and (year%100!=0 and year%400!=0):\n",
    "        is_leap_year=True\n",
    "else:\n",
    "        is_leap_year=False\n",
    "    \n",
    "if is_leap_year:\n",
    "    print(f\"The {year} year is leap year\")\n",
    "else:\n",
    "    print(f\"The {year} year is not leap year\")\n",
    "        "
   ]
  },
  {
   "cell_type": "markdown",
   "id": "88edbdf2-b697-488c-af6a-7e52058265b5",
   "metadata": {},
   "source": [
    "22.Create a Python program that calculates the square root of a number using a for loop."
   ]
  },
  {
   "cell_type": "code",
   "execution_count": 6,
   "id": "80d0d87c-1634-4e85-8063-0651460faeca",
   "metadata": {},
   "outputs": [
    {
     "name": "stdout",
     "output_type": "stream",
     "text": [
      "4.0\n"
     ]
    }
   ],
   "source": [
    "import math\n",
    "\n",
    "num=16\n",
    "\n",
    "sqaure_root=math.sqrt(num)\n",
    "print(sqaure_root)"
   ]
  },
  {
   "cell_type": "markdown",
   "id": "4ffa8f32-21ab-4ee0-ba5e-357e3168f2a8",
   "metadata": {},
   "source": [
    "23.Write a Python program to find the LCM (Least Common Multiple) of two numbers using a for loop."
   ]
  },
  {
   "cell_type": "markdown",
   "id": "7c4f7824-7536-4ad5-b637-9308fc645ce2",
   "metadata": {},
   "source": [
    "1.Write a Python program to check if a number is positive, negative, or zero using an if-else statement."
   ]
  },
  {
   "cell_type": "code",
   "execution_count": 44,
   "id": "dc77c296-f690-4b98-85ab-f82908d4681a",
   "metadata": {},
   "outputs": [
    {
     "name": "stdin",
     "output_type": "stream",
     "text": [
      "Enter a number 5\n"
     ]
    },
    {
     "name": "stdout",
     "output_type": "stream",
     "text": [
      "5 is positive\n"
     ]
    }
   ],
   "source": [
    "num=int(input(\"Enter a number\"))\n",
    "if num>0:\n",
    "    print(f\"{num} is positive\")\n",
    "elif num==0:\n",
    "    print(f\"{num} is zero\")\n",
    "else:\n",
    "    print(f\"{num} is negative\")"
   ]
  },
  {
   "cell_type": "markdown",
   "id": "075b8fa8-6d34-46f4-89d3-aa63fc5d310c",
   "metadata": {},
   "source": [
    "2.Create a Python program that checks if a given number is even or odd using an if-else statement."
   ]
  },
  {
   "cell_type": "code",
   "execution_count": 42,
   "id": "0e83c8fa-1acd-4bf3-bc59-1858f8832723",
   "metadata": {},
   "outputs": [
    {
     "name": "stdin",
     "output_type": "stream",
     "text": [
      "Enter a number: 44\n"
     ]
    },
    {
     "name": "stdout",
     "output_type": "stream",
     "text": [
      "44 is even\n"
     ]
    }
   ],
   "source": [
    "number=int(input(\"Enter a number:\"))\n",
    "if number%2==0:\n",
    "    #a number must be divisible by 2 to be an even number\n",
    "    print(f\"{number} is even\")\n",
    "else:\n",
    "    print(f\"{number} is odd\")"
   ]
  },
  {
   "cell_type": "markdown",
   "id": "c723d6d5-3de2-447e-a5d5-bb4073b0548d",
   "metadata": {},
   "source": [
    "3.How can you use nested if-else statements in Python, and provide an example?"
   ]
  },
  {
   "cell_type": "code",
   "execution_count": 43,
   "id": "2ca771e0-6ba6-4e70-9c06-83ea7094b809",
   "metadata": {},
   "outputs": [
    {
     "name": "stdout",
     "output_type": "stream",
     "text": [
      " 5  is positive\n"
     ]
    }
   ],
   "source": [
    "'''Nested if-else statments allow us to have multiple levels of conditions,where each level is checked if the previous condition is False.\n",
    "example: Here in the example we have three levels of conditions\n",
    "1. The first statemnet checkd if num is greater than 0 or not, if the condition is True it prints 5 is positive.\n",
    "2. If first condition is False the elif statement is evaluated and checks if num is equal to 0 or not if it is eqaul to 0 it prints 5 is zero.\n",
    "3. If both the above conditions are False, then the else block is executed which means num is negative, so it prints num is negative.\n",
    "\n",
    "In this way we use nested if-else statemnets to handle more complex branching logics based on conditions'''\n",
    "num=5\n",
    "if num>0:\n",
    "    print(f\" {num}  is positive\")\n",
    "elif num==0:\n",
    "    print(f\" {num}  is zero\")\n",
    "else:\n",
    "    print(f\" {num} is negative\")\n",
    "    "
   ]
  },
  {
   "cell_type": "markdown",
   "id": "0d064d31-56b8-4f7f-bad3-cb3f899bb8f6",
   "metadata": {},
   "source": [
    "4.Write a Python program to determine the largest of three numbers using if-else."
   ]
  },
  {
   "cell_type": "code",
   "execution_count": 45,
   "id": "ea1e6a56-d35b-450d-9a7b-4ace3a875877",
   "metadata": {},
   "outputs": [
    {
     "name": "stdin",
     "output_type": "stream",
     "text": [
      "Enter first number: 2.2\n",
      "Enter second number: 44\n",
      "Enter third number: 32\n"
     ]
    },
    {
     "name": "stdout",
     "output_type": "stream",
     "text": [
      "44.0 is greater than 2.2 and 32.0\n"
     ]
    }
   ],
   "source": [
    "a=float(input(\"Enter first number:\"))\n",
    "b=float(input(\"Enter second number:\"))\n",
    "c=float(input(\"Enter third number:\"))\n",
    "if a>b and a>c:\n",
    "    print(f\"{a} is greater tha {b} and {c}\")\n",
    "elif b>a and b>c:\n",
    "    print(f\"{b} is greater than {a} and {c}\")\n",
    "else:\n",
    "    print(f\"{c} is greater than {a} and {b}\")"
   ]
  },
  {
   "cell_type": "markdown",
   "id": "2bfd81f3-4cc5-4829-9099-99abea4f356b",
   "metadata": {},
   "source": [
    "5.Write a Python program that calculates the absolute value of a number using if-else."
   ]
  },
  {
   "cell_type": "code",
   "execution_count": 46,
   "id": "f04b91b2-3304-4f30-a6cd-630f3abde6bf",
   "metadata": {},
   "outputs": [
    {
     "name": "stdin",
     "output_type": "stream",
     "text": [
      "Enter a number:  32\n"
     ]
    },
    {
     "name": "stdout",
     "output_type": "stream",
     "text": [
      "The absolute value of 32.0 is : 32.0\n"
     ]
    }
   ],
   "source": [
    "num = float(input(\"Enter a number: \"))\n",
    "\n",
    "if num<0:\n",
    "    abs_val=-num\n",
    "else:\n",
    "    abs_val=num\n",
    "print(f\"The absolute value of {num} is :\",abs_val) "
   ]
  },
  {
   "cell_type": "markdown",
   "id": "686f9375-6bd4-47d7-98da-2847231c26de",
   "metadata": {},
   "source": [
    "6.Create a Python program that checks if a given character is a vowel or consonant using if-else."
   ]
  },
  {
   "cell_type": "code",
   "execution_count": 48,
   "id": "fc7251a5-ea40-43e9-906e-d4d11a94b703",
   "metadata": {},
   "outputs": [
    {
     "name": "stdin",
     "output_type": "stream",
     "text": [
      "Enter a character:  a\n"
     ]
    },
    {
     "name": "stdout",
     "output_type": "stream",
     "text": [
      "a is a vowel\n"
     ]
    }
   ],
   "source": [
    "character = input(\"Enter a character: \")\n",
    "\n",
    "# to ensure the input is a single character\n",
    "if len(character) == 1:\n",
    "    # Convertin the input character to lowercase for case-insensitive checking\n",
    "    character = character.lower()\n",
    "\n",
    "    # Checking if it's a vowel or a consonant\n",
    "    if character in 'aeiou':\n",
    "        print(f\"{character} is a vowel\")\n",
    "    else:\n",
    "        print(f\"{character} is a consonant\")\n",
    "else:\n",
    "    print(\"Please enter a single character\")"
   ]
  },
  {
   "cell_type": "markdown",
   "id": "7ccc28f2-4aab-4d41-965b-f1aac0620b62",
   "metadata": {},
   "source": [
    "7.Write a Python program to determine if a user is eligible to vote based on their age using if-else."
   ]
  },
  {
   "cell_type": "code",
   "execution_count": 49,
   "id": "6974dc48-5d28-4bb8-8899-3052a0993a1c",
   "metadata": {},
   "outputs": [
    {
     "name": "stdin",
     "output_type": "stream",
     "text": [
      "Enter the age: 21\n"
     ]
    },
    {
     "name": "stdout",
     "output_type": "stream",
     "text": [
      "Yes, He is eligible for voting\n"
     ]
    }
   ],
   "source": [
    "age=int(input(\"Enter the age:\"))\n",
    "if age>=18:\n",
    "    #a person show be be 18 or above to vote\n",
    "    print(\"Yes, He is eligible for voting\")\n",
    "else:\n",
    "    print(\"No,He is not eligible to vote\")"
   ]
  },
  {
   "cell_type": "markdown",
   "id": "5c10c039-187d-46e6-bd85-23e95213bcf9",
   "metadata": {},
   "source": [
    "8.Create a Python program that calculates the discount amount based on the purchase amount using if-else."
   ]
  },
  {
   "cell_type": "code",
   "execution_count": 7,
   "id": "1475bb95-d9d9-46f0-a660-2fa8419d736d",
   "metadata": {},
   "outputs": [
    {
     "name": "stdin",
     "output_type": "stream",
     "text": [
      "Enter the purchase amount:  5000\n"
     ]
    },
    {
     "name": "stdout",
     "output_type": "stream",
     "text": [
      "Original Purchase Amount: $5000.00\n",
      "Discount Amount: $500.00\n",
      "Final Amount to Pay: $4500.00\n"
     ]
    }
   ],
   "source": [
    "purchase_amount = float(input(\"Enter the purchase amount: \")) \n",
    "discount = 0.0 \n",
    "if purchase_amount >= 1000: discount = purchase_amount * 0.1 \n",
    "elif purchase_amount >= 500: \n",
    "    discount = purchase_amount * 0.05 \n",
    "final_amount = purchase_amount - discount \n",
    "# Display the results \n",
    "print(f\"Original Purchase Amount: ${purchase_amount:.2f}\") \n",
    "print(f\"Discount Amount: ${discount:.2f}\") \n",
    "print(f\"Final Amount to Pay: ${final_amount:.2f}\")"
   ]
  },
  {
   "cell_type": "markdown",
   "id": "e4958177-0eff-4c2f-8953-a02c690ee86d",
   "metadata": {},
   "source": [
    "9.Write a Python program to check if a number is within a specified range using if-else."
   ]
  },
  {
   "cell_type": "code",
   "execution_count": 5,
   "id": "d154d863-5bd5-4175-a5c3-7224f0196456",
   "metadata": {},
   "outputs": [
    {
     "name": "stdin",
     "output_type": "stream",
     "text": [
      "Enter a number:  1000\n"
     ]
    },
    {
     "name": "stdout",
     "output_type": "stream",
     "text": [
      "num is not in given range\n"
     ]
    }
   ],
   "source": [
    "range_=100\n",
    "num=int(input(\"Enter a number: \"))\n",
    "if num in range(range_+1):\n",
    "    print(\"num in given range\")\n",
    "else:\n",
    "    print(\"num is not in given range\")"
   ]
  },
  {
   "cell_type": "markdown",
   "id": "b3a5ef6c-760d-4159-9725-75ee00877758",
   "metadata": {},
   "source": [
    "10.Create a Python program that determines the grade of a student based on their score using if-else."
   ]
  },
  {
   "cell_type": "code",
   "execution_count": 35,
   "id": "657a1d2e-2f92-42c1-8c28-05aba8bae95a",
   "metadata": {},
   "outputs": [
    {
     "name": "stdin",
     "output_type": "stream",
     "text": [
      "Enter the score: 22\n"
     ]
    },
    {
     "name": "stdout",
     "output_type": "stream",
     "text": [
      "The student has been graded with : F\n"
     ]
    }
   ],
   "source": [
    "score=float(input(\"Enter the score:\"))\n",
    "if score>90:\n",
    "    print(\"The student has been graded with : A+\")\n",
    "elif (score<70 and score>60) :\n",
    "    print(\"The student has been graded with : A\")\n",
    "elif (score>50 and score<60):\n",
    "    print(\"The student has been graded with : B\")\n",
    "elif (score>40 and score<50):\n",
    "    print(\"The student has been graded with : C\")    \n",
    "else:\n",
    "    print(\"The student has been graded with : F\")"
   ]
  },
  {
   "cell_type": "markdown",
   "id": "c9703f7b-92ed-408d-b11c-8622d20b1bde",
   "metadata": {},
   "source": [
    "11.Write a Python program to check if a string is empty or not using if-else."
   ]
  },
  {
   "cell_type": "code",
   "execution_count": 20,
   "id": "6d780733-b2c1-44fe-9160-c4da8c8c54ed",
   "metadata": {},
   "outputs": [
    {
     "name": "stdin",
     "output_type": "stream",
     "text": [
      "Enter a string j\n"
     ]
    },
    {
     "name": "stdout",
     "output_type": "stream",
     "text": [
      "my_str = 'j' and it is not empty\n"
     ]
    }
   ],
   "source": [
    "my_str=input(\"Enter a string\")\n",
    "if len(my_str)==0:\n",
    "    print(f\"my_str = '{my_str}' and it is empty\")\n",
    "else:\n",
    "    print(f\"my_str = '{my_str}' and it is not empty\")"
   ]
  },
  {
   "cell_type": "markdown",
   "id": "07295f8b-728f-4da5-88e2-63c45e3cd082",
   "metadata": {},
   "source": [
    "12.Create a Python program that identifies the type of a triangle (e.g., equilateral, isosceles, or scalene) based on input values using if-else."
   ]
  },
  {
   "cell_type": "code",
   "execution_count": 21,
   "id": "732c580f-847e-4f1c-902e-f11674e1c999",
   "metadata": {},
   "outputs": [
    {
     "name": "stdin",
     "output_type": "stream",
     "text": [
      "Enter first side: 1\n",
      "Enter second side: 4\n",
      "Enter third side: 7\n"
     ]
    },
    {
     "name": "stdout",
     "output_type": "stream",
     "text": [
      "The triangle is a 'scalene scalene'\n"
     ]
    }
   ],
   "source": [
    "a=float(input(\"Enter first side:\"))\n",
    "b=float(input(\"Enter second side:\"))\n",
    "c=float(input(\"Enter third side:\"))\n",
    "if c==a==b:\n",
    "    print(\"The triangle is a 'Equilateral traiangle'\")\n",
    "elif a==b and a!=c:\n",
    "    print(\"The triangle is a 'isosceles traiangle'\")\n",
    "else:\n",
    "    print(\"The triangle is a 'scalene scalene'\")"
   ]
  },
  {
   "cell_type": "markdown",
   "id": "250f02ad-eb64-4eac-a7e8-fb9096c5834a",
   "metadata": {},
   "source": [
    "13.Write a Python program to determine the day of the week based on a user-provided number using if-else."
   ]
  },
  {
   "cell_type": "code",
   "execution_count": 22,
   "id": "fbb3f8b2-e3ea-4ff8-a533-7592785e5766",
   "metadata": {},
   "outputs": [
    {
     "name": "stdin",
     "output_type": "stream",
     "text": [
      "Enter a day 4\n"
     ]
    },
    {
     "name": "stdout",
     "output_type": "stream",
     "text": [
      "The day is Thursday\n"
     ]
    }
   ],
   "source": [
    "day=int(input(\"Enter a day\"))\n",
    "if day==1:\n",
    "    print(\"The day is Monday\")\n",
    "elif day==2:\n",
    "    print(\"The day is Tuesday\")\n",
    "elif day==3:\n",
    "    print(\"The day is Wednesday\")    \n",
    "elif day==4:\n",
    "    print(\"The day is Thursday\")    \n",
    "elif day==5:\n",
    "    print(\"The day is Friday\")\n",
    "elif day==6:\n",
    "    print(\"The day is Saturday\")\n",
    "elif day==7:\n",
    "    print(\"The day is Sunday\")  \n",
    "else:\n",
    "    print(\"Enter a valid week number\")"
   ]
  },
  {
   "cell_type": "markdown",
   "id": "1d78560d-e84e-4582-8c7e-460e79200315",
   "metadata": {},
   "source": [
    "14.Create a Python program that checks if a given year is a leap year using both if-else and a function."
   ]
  },
  {
   "cell_type": "code",
   "execution_count": 33,
   "id": "ca60e8d8-e4a8-425c-968c-0f8d46412b91",
   "metadata": {},
   "outputs": [
    {
     "name": "stdin",
     "output_type": "stream",
     "text": [
      "Enter a year:  2024\n"
     ]
    },
    {
     "name": "stdout",
     "output_type": "stream",
     "text": [
      "2024 is a leap year.\n"
     ]
    }
   ],
   "source": [
    "def is_leap_year(year):\n",
    "    if (year % 4 == 0 and year % 100 != 0) or (year % 400 == 0):\n",
    "        return True\n",
    "    else:\n",
    "        return False\n",
    "year = int(input(\"Enter a year: \"))\n",
    "\n",
    "if is_leap_year(year):\n",
    "    print(f\"{year} is a leap year.\")\n",
    "else:\n",
    "    print(f\"{year} is not a leap year.\")\n",
    "\n",
    "\n"
   ]
  },
  {
   "cell_type": "markdown",
   "id": "44c8d24f-f6f5-4e0a-be7d-8adbd8918537",
   "metadata": {},
   "source": [
    "15.How do you use the \"assert\" statement in Python to add debugging checks within if-else blocks?"
   ]
  },
  {
   "cell_type": "code",
   "execution_count": 7,
   "id": "21584e41-2943-4ad3-b5ff-0a3bb71d0899",
   "metadata": {},
   "outputs": [
    {
     "name": "stdout",
     "output_type": "stream",
     "text": [
      "5.0\n"
     ]
    },
    {
     "ename": "AssertionError",
     "evalue": "Division by zero is not allowed",
     "output_type": "error",
     "traceback": [
      "\u001b[0;31m---------------------------------------------------------------------------\u001b[0m",
      "\u001b[0;31mAssertionError\u001b[0m                            Traceback (most recent call last)",
      "Cell \u001b[0;32mIn[7], line 18\u001b[0m\n\u001b[1;32m     16\u001b[0m result \u001b[38;5;241m=\u001b[39m divide(\u001b[38;5;241m10\u001b[39m, \u001b[38;5;241m2\u001b[39m)  \u001b[38;5;66;03m# This will work fine.\u001b[39;00m\n\u001b[1;32m     17\u001b[0m \u001b[38;5;28mprint\u001b[39m(result)\n\u001b[0;32m---> 18\u001b[0m result \u001b[38;5;241m=\u001b[39m \u001b[43mdivide\u001b[49m\u001b[43m(\u001b[49m\u001b[38;5;241;43m10\u001b[39;49m\u001b[43m,\u001b[49m\u001b[43m \u001b[49m\u001b[38;5;241;43m0\u001b[39;49m\u001b[43m)\u001b[49m  \u001b[38;5;66;03m# This will raise an AssertionError with the provided message.\u001b[39;00m\n",
      "Cell \u001b[0;32mIn[7], line 14\u001b[0m, in \u001b[0;36mdivide\u001b[0;34m(a, b)\u001b[0m\n\u001b[1;32m     13\u001b[0m \u001b[38;5;28;01mdef\u001b[39;00m \u001b[38;5;21mdivide\u001b[39m(a, b):\n\u001b[0;32m---> 14\u001b[0m     \u001b[38;5;28;01massert\u001b[39;00m b \u001b[38;5;241m!=\u001b[39m \u001b[38;5;241m0\u001b[39m, \u001b[38;5;124m\"\u001b[39m\u001b[38;5;124mDivision by zero is not allowed\u001b[39m\u001b[38;5;124m\"\u001b[39m\n\u001b[1;32m     15\u001b[0m     \u001b[38;5;28;01mreturn\u001b[39;00m a \u001b[38;5;241m/\u001b[39m b\n",
      "\u001b[0;31mAssertionError\u001b[0m: Division by zero is not allowed"
     ]
    }
   ],
   "source": [
    "'''The assert statement is used to check whether a given condition is True. \n",
    "If the condition is False, it raises an AssertionError exception, which can be used to indicate that something unexpected has occurred in your code. \n",
    "assert is often used as a debugging aid to help identify and diagnose issues during development.\n",
    "\n",
    "Here's the basic syntax of the assert statement: \n",
    "assert condition, message \n",
    "condition: This is the expression that you want to test. If it evaluates to True, the assert statement has no effect. If it evaluates to False, an AssertionError is raised.\n",
    "\n",
    "message (optional): This is an optional message that you can provide to provide additional information about the assertion. \n",
    "It can be a string or any other expression that will be displayed in the error message if the assertion fails. \n",
    "Including a message can be helpful for debugging purposes.'''\n",
    "\n",
    "def divide(a, b):\n",
    "    assert b != 0, \"Division by zero is not allowed\"\n",
    "    return a / b\n",
    "result = divide(10, 2)  # This will work fine.\n",
    "print(result)\n",
    "result = divide(10, 0)  # This will raise an AssertionError with the provided message."
   ]
  },
  {
   "cell_type": "markdown",
   "id": "fe0393d9-fbf5-49b1-90ce-1afa84ad44fe",
   "metadata": {},
   "source": [
    "16.Create a Python program that determines the eligibility of a person for a senior citizen discount based on age using if-else."
   ]
  },
  {
   "cell_type": "code",
   "execution_count": 1,
   "id": "6d954d3b-0396-4811-bd44-a0c0e97049e5",
   "metadata": {},
   "outputs": [
    {
     "name": "stdin",
     "output_type": "stream",
     "text": [
      "Enter your age:  22\n"
     ]
    },
    {
     "name": "stdout",
     "output_type": "stream",
     "text": [
      "Sorry, you are not eligible for a senior citizen discount.\n"
     ]
    }
   ],
   "source": [
    "age = int(input(\"Enter your age: \"))\n",
    "if age >= 60:\n",
    "    print(\"Congratulations! You are eligible for a senior citizen discount.\")\n",
    "else:\n",
    "    print(\"Sorry, you are not eligible for a senior citizen discount.\")\n"
   ]
  },
  {
   "cell_type": "markdown",
   "id": "0d705d9c-e968-4a47-9d9e-6049336e6a09",
   "metadata": {},
   "source": [
    "17.Write a Python program to categorize a given character as uppercase, lowercase, or neither using if-else."
   ]
  },
  {
   "cell_type": "code",
   "execution_count": 5,
   "id": "715a442a-50cb-4ef9-b8ef-566b5572b265",
   "metadata": {},
   "outputs": [
    {
     "name": "stdout",
     "output_type": "stream",
     "text": [
      "'H' in 'Hars()hiniR' is upper case letter\n",
      "'a' in 'Hars()hiniR' is lower case letter\n",
      "'r' in 'Hars()hiniR' is lower case letter\n",
      "'s' in 'Hars()hiniR' is lower case letter\n",
      "'(' in 'Hars()hiniR' is not upper nor lower case letter\n",
      "')' in 'Hars()hiniR' is not upper nor lower case letter\n",
      "'h' in 'Hars()hiniR' is lower case letter\n",
      "'i' in 'Hars()hiniR' is lower case letter\n",
      "'n' in 'Hars()hiniR' is lower case letter\n",
      "'i' in 'Hars()hiniR' is lower case letter\n",
      "'R' in 'Hars()hiniR' is upper case letter\n"
     ]
    }
   ],
   "source": [
    "my_strin='Hars()hiniR'\n",
    "for char in my_strin:\n",
    "    if char.isupper():\n",
    "        print(f\"'{char}' in '{my_strin}' is upper case letter\")\n",
    "    elif char.islower():\n",
    "        print(f\"'{char}' in '{my_strin}' is lower case letter\")\n",
    "    else:\n",
    "        print(f\"'{char}' in '{my_strin}' is not upper nor lower case letter\")"
   ]
  },
  {
   "cell_type": "markdown",
   "id": "1cad1967-bca6-45d9-b622-5325c2a03103",
   "metadata": {},
   "source": [
    "18.Write a Python program to determine the roots of a quadratic equation using if-else."
   ]
  },
  {
   "cell_type": "code",
   "execution_count": 8,
   "id": "7ab8aeae-ee1b-4318-a521-b1c6f38d0ebe",
   "metadata": {},
   "outputs": [
    {
     "name": "stdin",
     "output_type": "stream",
     "text": [
      "Enter the coefficient a:  2\n",
      "Enter the coefficient b:  3\n",
      "Enter the coefficient c:  1\n"
     ]
    },
    {
     "name": "stdout",
     "output_type": "stream",
     "text": [
      "The roots are real and distinct: -0.5 and -1.0\n"
     ]
    }
   ],
   "source": [
    "import math\n",
    "\n",
    "# The quadratic equation: ax^2 + bx + c = 0\n",
    "a = float(input(\"Enter the coefficient a: \"))\n",
    "b = float(input(\"Enter the coefficient b: \"))\n",
    "c = float(input(\"Enter the coefficient c: \"))\n",
    "\n",
    "# Calculating the discriminant (the value inside the square root)\n",
    "discriminant = b**2 - 4*a*c\n",
    "\n",
    "# Checking the nature of the roots using the discriminant\n",
    "if discriminant > 0:\n",
    "    # Two distinct real roots\n",
    "    root1 = (-b + math.sqrt(discriminant)) / (2*a)\n",
    "    root2 = (-b - math.sqrt(discriminant)) / (2*a)\n",
    "    print(f\"The roots are real and distinct: {root1} and {root2}\")\n",
    "elif discriminant == 0:\n",
    "    # One real root (repeated)\n",
    "    root = -b / (2*a)\n",
    "    print(f\"There is one real root (repeated): {root}\")\n",
    "else:\n",
    "    # Complex roots\n",
    "    real_part = -b / (2*a)\n",
    "    imaginary_part = math.sqrt(abs(discriminant)) / (2*a)\n",
    "    print(f\"The roots are complex: {real_part} + {imaginary_part}i and {real_part} - {imaginary_part}i\")"
   ]
  },
  {
   "cell_type": "markdown",
   "id": "8ea4c2bd-351a-4c59-9fd3-4b72496ef7f0",
   "metadata": {},
   "source": [
    "19.Create a Python program that checks if a given year is a century year or not using if-else."
   ]
  },
  {
   "cell_type": "code",
   "execution_count": 5,
   "id": "c27eb9f7-b41c-4994-aa80-5dd4f37dddde",
   "metadata": {},
   "outputs": [
    {
     "name": "stdin",
     "output_type": "stream",
     "text": [
      "Enter a year:  2024\n"
     ]
    },
    {
     "name": "stdout",
     "output_type": "stream",
     "text": [
      "2024 is not a century year.\n",
      "2024 is a leap year.\n"
     ]
    }
   ],
   "source": [
    "def is_century_year(year):\n",
    "    # Check if the year ends in \"00\"\n",
    "    return year % 100 == 0\n",
    "\n",
    "def is_leap_year(year):\n",
    "    # Check if it's a leap year (divisible by 4 and 400, but not by 100)\n",
    "    return (year % 4 == 0 and year % 100 != 0) or (year % 400 == 0)\n",
    "\n",
    "# Input year from the user\n",
    "year = int(input(\"Enter a year: \"))\n",
    "\n",
    "if is_century_year(year):\n",
    "    print(f\"{year} is a century year.\")\n",
    "    if is_leap_year(year):\n",
    "        print(f\"{year} is also a leap year.\")\n",
    "    else:\n",
    "        print(f\"{year} is not a leap year.\")\n",
    "else:\n",
    "    print(f\"{year} is not a century year.\")\n",
    "    if is_leap_year(year):\n",
    "        print(f\"{year} is a leap year.\")\n",
    "    else:\n",
    "        print(f\"{year} is not a leap year.\")\n"
   ]
  },
  {
   "cell_type": "markdown",
   "id": "c0487b7b-a148-4e8a-8d90-a267f16b658d",
   "metadata": {},
   "source": [
    "20.Write a Python program to determine if a given number is a perfect square using if-else."
   ]
  },
  {
   "cell_type": "code",
   "execution_count": 4,
   "id": "cb0b4cde-1565-4c99-bd74-e9bb352cbf85",
   "metadata": {},
   "outputs": [
    {
     "name": "stdin",
     "output_type": "stream",
     "text": [
      "Enter a number:  99\n"
     ]
    },
    {
     "name": "stdout",
     "output_type": "stream",
     "text": [
      "99 is not a perfect square\n"
     ]
    }
   ],
   "source": [
    "num_ =int(input(\"Enter a number: \"))\n",
    "for i in range(1,num_):\n",
    "    if  i**2<=num_:\n",
    "        if i**2==num_:\n",
    "            print(f\"{num_} is a perfect sqaure\")\n",
    "            break\n",
    "else:\n",
    "            print(f\"{num_} is not a perfect square\")"
   ]
  },
  {
   "cell_type": "markdown",
   "id": "b75eff96-c397-4529-8496-abf945ab7ca8",
   "metadata": {},
   "source": [
    "21.Explain the purpose of the \"continue\" and \"break\" statements within if-else loops."
   ]
  },
  {
   "cell_type": "markdown",
   "id": "17f5c32e-10e0-4550-a02f-931a01305951",
   "metadata": {},
   "source": [
    "22.Create a Python program that calculates the BMI (Body Mass Index) of a person based on their weight and height using if-else."
   ]
  },
  {
   "cell_type": "code",
   "execution_count": 7,
   "id": "e973bfd2-741a-4267-9482-79a0bc8a9017",
   "metadata": {},
   "outputs": [
    {
     "name": "stdin",
     "output_type": "stream",
     "text": [
      "Enter your height in meters (e.g., 1.63):  1.73\n",
      "Enter your weight in kilograms (e.g., 72):  72\n"
     ]
    },
    {
     "name": "stdout",
     "output_type": "stream",
     "text": [
      "Your BMI is 24.06, and you are categorized as Normal Weight.\n"
     ]
    }
   ],
   "source": [
    "#function to calculate BMI\n",
    "def calculate_bmi(weight_kg, height_meter):\n",
    "    return weight_kg / (height_meter ** 2)\n",
    "\n",
    "# Input height and weight \n",
    "height = float(input(\"Enter your height in meters (e.g., 1.63): \"))\n",
    "weight = float(input(\"Enter your weight in kilograms (e.g., 72): \"))\n",
    "\n",
    "# Calculate BMI\n",
    "bmi = calculate_bmi(weight, height)\n",
    "\n",
    "if bmi < 18.5:\n",
    "    category = \"Underweight\"\n",
    "elif 18.5 <= bmi < 24.9:\n",
    "    category = \"Normal Weight\"\n",
    "elif 24.9 <= bmi < 29.9:\n",
    "    category = \"Overweight\"\n",
    "else:\n",
    "    category = \"Obese\"\n",
    "\n",
    "print(f\"Your BMI is {bmi:.2f}, and you are categorized as {category}.\")"
   ]
  },
  {
   "cell_type": "markdown",
   "id": "973e9034-ae74-491f-9712-593481131875",
   "metadata": {},
   "source": [
    "23.How can you use the \"filter()\" function with if-else statements to filter elements from a list?"
   ]
  },
  {
   "cell_type": "code",
   "execution_count": 36,
   "id": "2234ffb6-bb4f-4a78-85e4-2b2194b23702",
   "metadata": {},
   "outputs": [
    {
     "name": "stdout",
     "output_type": "stream",
     "text": [
      "[2, 4, 6, 12, 14]\n"
     ]
    }
   ],
   "source": [
    "my_list=[1,2,3,4,5,6,11,12,13,14,15]\n",
    "def is_even(x):\n",
    "    return x%2==0\n",
    "even_number=filter(lambda x:x if is_even(x) else None,my_list)\n",
    "print(list(even_number))\n"
   ]
  },
  {
   "cell_type": "markdown",
   "id": "79965082-1b72-470f-9944-c8f106e36da4",
   "metadata": {},
   "source": [
    "24.Write a Python program to determine if a given number is prime or not using if-else."
   ]
  },
  {
   "cell_type": "code",
   "execution_count": 31,
   "id": "5c4efdae-2727-4d58-87cd-a07ac6cf7e9f",
   "metadata": {},
   "outputs": [
    {
     "name": "stdin",
     "output_type": "stream",
     "text": [
      "Enter the number:  4\n"
     ]
    },
    {
     "name": "stdout",
     "output_type": "stream",
     "text": [
      "4 is not a prime number\n"
     ]
    }
   ],
   "source": [
    "n= int(input(\"Enter the number: \"))\n",
    "for i in range(2,n):\n",
    "    \n",
    "    if n>=2 and n%2!=0:\n",
    "            print(f\"{n} is prime number\")\n",
    "            break\n",
    "else:\n",
    "        print(f\"{n} is not a prime number\")\n"
   ]
  },
  {
   "cell_type": "markdown",
   "id": "d0864433-5747-4c6c-bce6-86ab4395f2fa",
   "metadata": {},
   "source": [
    "1.Explain the purpose of the `map()` function in Python and provide an example of how it can be used to apply a function to each element of an iterable."
   ]
  },
  {
   "cell_type": "code",
   "execution_count": 2,
   "id": "3684d604-16a7-45fc-89f5-3ef0406f28e1",
   "metadata": {},
   "outputs": [
    {
     "name": "stdout",
     "output_type": "stream",
     "text": [
      "[1, 4, 9, 16, 25]\n"
     ]
    }
   ],
   "source": [
    "'''The map() function in Python is a built-in function that is used to apply a given function to each item in an iterable (e.g., a list, tuple, or other iterable). \n",
    "It returns an iterator that yields the results of applying the specified function to each element of the iterable, one at a time. \n",
    "The main purpose of map() is to transform data by applying a function to each element efficiently, without the need for explicit loops.\n",
    "\n",
    "The basic syntax of the map() function is as follows:\n",
    "\n",
    "map(function, iterable)\n",
    "\n",
    "function: It is the function that you want to apply to each element of the iterable.\n",
    "iterable: It is the iterable (e.g., a list, tuple, or other iterable) whose elements you want to apply the function to.\n",
    "Here's an example to illustrate how map() works:\n",
    "\n",
    "In this example, we first define a square() function that takes a single argument and returns its square. Then, we create a list called numbers with some numerical values.\n",
    "We use map() to apply the square() function to each element in the numbers list.\n",
    "The result is an iterator, which we convert to a list using list(). Finally, we print the list of squared numbers.'''\n",
    "\n",
    "# Define a function that squares a number\n",
    "def square(x):\n",
    "    return x ** 2\n",
    "\n",
    "# Create a list of numbers\n",
    "numbers = [1, 2, 3, 4, 5]\n",
    "\n",
    "# Use map() to apply the square function to each element in the list\n",
    "squared_numbers = map(square, numbers)\n",
    "\n",
    "# Convert the result to a list (since map returns an iterator)\n",
    "squared_numbers_list = list(squared_numbers)\n",
    "\n",
    "# Print the squared numbers\n",
    "print(squared_numbers_list)\n",
    "\n"
   ]
  },
  {
   "cell_type": "markdown",
   "id": "cf7b85ab-2fcd-4bb2-adb0-aa7a118cd062",
   "metadata": {},
   "source": [
    "2.Write a Python program that uses the `map()` function to square each element of a list of numbers."
   ]
  },
  {
   "cell_type": "code",
   "execution_count": 4,
   "id": "908458b3-162f-4c2b-8cb7-3c7e3013986c",
   "metadata": {},
   "outputs": [
    {
     "name": "stdout",
     "output_type": "stream",
     "text": [
      "Square of each element in the list [2, 3, 4, 5] is : [4, 9, 16, 25]\n"
     ]
    }
   ],
   "source": [
    "my_list=[2,3,4,5]\n",
    "def square_num(x):\n",
    "    return x**2\n",
    "squared_num=list(map(square_num,my_list))\n",
    "print(f\"Square of each element in the list {my_list} is :\",squared_num)"
   ]
  },
  {
   "cell_type": "markdown",
   "id": "19027fd3-d127-4fda-8f20-5f0db57ca5b6",
   "metadata": {},
   "source": [
    "3.How does the `map()` function differ from a list comprehension in Python, and when would you choose one over the other?"
   ]
  },
  {
   "cell_type": "code",
   "execution_count": 5,
   "id": "fd002508-ef59-4e7c-bb42-e2edf92c82ad",
   "metadata": {},
   "outputs": [
    {
     "name": "stdout",
     "output_type": "stream",
     "text": [
      "map function result: [1, 4, 9, 16, 25]\n",
      "list comprehension result: [1, 4, 9, 16, 25]\n"
     ]
    }
   ],
   "source": [
    "'''The map() function and list comprehensions in Python are both used for \n",
    "transforming data by applying a function to each element in an iterable, \n",
    "but they differ in their usage, syntax, and some aspects of performance. \n",
    "Here are the key differences between map() and list comprehensions:\n",
    "\n",
    "Syntax:\n",
    "\n",
    "map():\n",
    "\n",
    "map(function, iterable)\n",
    "List comprehension:\n",
    "\n",
    "[expression for item in iterable]\n",
    "Return Type:\n",
    "\n",
    "map(): Returns an iterator. You often need to convert it to a list using list() to see the results immediately.\n",
    "\n",
    "List comprehension: Returns a new list.\n",
    "\n",
    "Readability:\n",
    "\n",
    "List comprehensions are generally considered more readable and Pythonic for simple transformations\n",
    "because the operation being performed is evident within the list comprehension itself.\n",
    "Functionality:\n",
    "\n",
    "map() is specifically designed for applying a function to each element of an iterable. \n",
    "It can handle more complex functions and multiple iterable arguments, but it requires defining the function separately.\n",
    "\n",
    "List comprehensions can also apply functions to elements but are generally better suited for simple operations and transformations. \n",
    "They can also filter elements based on conditions using if clauses.\n",
    "\n",
    "Performance:\n",
    "\n",
    "In some cases, map() can be slightly more efficient than list comprehensions because it's a built-in function\n",
    "and can be optimized by the interpreter. \n",
    "However, the difference in performance is often negligible for small datasets. \n",
    "\n",
    "example:\n",
    "In this simple example, the list comprehension is often preferred for its readability and simplicity. \n",
    "However, if you need to apply a more complex function or operate on multiple iterables simultaneously, map() might be a better choice.\n",
    "\n",
    "Ultimately, the choice between map() and list comprehensions depends on the specific use case and your preference for readability and simplicity versus flexibility and functionality.\n",
    "\n",
    "'''\n",
    "numbers = [1, 2, 3, 4, 5]\n",
    "squared_numbers = map(lambda x: x**2, numbers)\n",
    "squared_numbers_list = list(squared_numbers)\n",
    "print(\"map function result:\",squared_numbers_list)\n",
    "\n",
    "numbers1 = [1, 2, 3, 4, 5]\n",
    "squared_numbers = [x**2 for x in numbers1]\n",
    "print(\"list comprehension result:\",squared_numbers )\n"
   ]
  },
  {
   "cell_type": "markdown",
   "id": "651d5757-f814-4be4-9d49-2c08407b26d0",
   "metadata": {},
   "source": [
    "4.Create a Python program that uses the `map()` function to convert a list of names to uppercase."
   ]
  },
  {
   "cell_type": "code",
   "execution_count": 7,
   "id": "5142683c-283f-4c87-ac9a-734c19e23ac7",
   "metadata": {},
   "outputs": [
    {
     "name": "stdout",
     "output_type": "stream",
     "text": [
      "Names to upper case letters : ['APPLE', 'HARSHINI', 'DHEERAJ', 'HARSHA', 'NAMITHA', 'HARIKA']\n"
     ]
    }
   ],
   "source": [
    "my_list=['apple','harshini','dheeraj','harsha','namitha','harika']\n",
    "def upper_(x):\n",
    "    return x.upper()\n",
    "upper_letters=list(map(upper_,my_list))\n",
    "print(f\"Names to upper case letters :\",upper_letters)\n",
    "    "
   ]
  },
  {
   "cell_type": "markdown",
   "id": "63bb5c19-40df-4ebc-83d1-f5e0d64e7998",
   "metadata": {},
   "source": [
    "5.Write a Python program that uses the `map()` function to calculate the length of each word in a list of strings."
   ]
  },
  {
   "cell_type": "code",
   "execution_count": 8,
   "id": "a31783b5-ba74-46d0-b58d-0d4223280914",
   "metadata": {},
   "outputs": [
    {
     "name": "stdout",
     "output_type": "stream",
     "text": [
      "Lengths of eac words in the list ['apple', 'harshini', 'dheeraj', 'harsha', 'namitha', 'harika'] are [5, 8, 7, 6, 7, 6]\n"
     ]
    }
   ],
   "source": [
    "my_strings=['apple','harshini','dheeraj','harsha','namitha','harika']\n",
    "str_len= list(map(len,my_strings))\n",
    "print(f\"Lengths of eac words in the list {my_strings} are\",str_len)"
   ]
  },
  {
   "cell_type": "markdown",
   "id": "6f840210-1be4-4f29-8c38-a2bdc6d0846b",
   "metadata": {},
   "source": [
    "6.How can you use the `map()` function to apply a custom function to elements of multiple lists simultaneously in Python?"
   ]
  },
  {
   "cell_type": "code",
   "execution_count": 3,
   "id": "87f9309b-df9a-4729-8931-7b41eb118273",
   "metadata": {},
   "outputs": [
    {
     "name": "stdout",
     "output_type": "stream",
     "text": [
      "[12, 15, 18]\n"
     ]
    }
   ],
   "source": [
    "'''We can use the `map()` function in Python to apply a custom function to elements of multiple lists simultaneously\n",
    "by passing multiple iterable arguments to it. \n",
    "Here's an example: \n",
    " ``` In this example, `custom_function` takes three arguments, and we pass three lists (`list1`, `list2`, and `list3`) as arguments to `map()`. \n",
    " The `map()` function will apply `custom_function` to corresponding elements from each of the lists and return a list of the\n",
    " results. The output will be: [12, 15, 18]\n",
    " Each element of the result list is the sum of the corresponding elements from the three input lists. \n",
    "'''\n",
    "\n",
    "def custom_function(x, y, z): \n",
    "    return x + y + z \n",
    "list1 = [1, 2, 3] \n",
    "list2 = [4, 5, 6] \n",
    "list3 = [7, 8, 9] \n",
    "result = list(map(custom_function, list1, list2, list3)) \n",
    "print(result)"
   ]
  },
  {
   "cell_type": "markdown",
   "id": "d7761dd1-8c45-43a4-b2be-eb73fbf6e0a0",
   "metadata": {},
   "source": [
    "7.Create a Python program that uses `map()` to convert a list of temperatures from Celsius to Fahrenheit."
   ]
  },
  {
   "cell_type": "code",
   "execution_count": 9,
   "id": "62c2d94a-8331-44c4-ba15-010b01a4cd13",
   "metadata": {},
   "outputs": [
    {
     "name": "stdout",
     "output_type": "stream",
     "text": [
      "Celsius Temperatures: [91, 50, 40, 110, 210]\n",
      "Fahrenheit Temperatures: [195.8, 122.0, 104.0, 230.0, 410.0]\n"
     ]
    }
   ],
   "source": [
    "C_temp = [91,50,40,110,210]\n",
    "def cal_(celsius):\n",
    "    return (1.8 * celsius) + 32\n",
    "f_temp=list(map(cal_,C_temp))\n",
    "print(\"Celsius Temperatures:\", C_temp)\n",
    "print(\"Fahrenheit Temperatures:\", f_temp)"
   ]
  },
  {
   "cell_type": "markdown",
   "id": "1ef633cd-a7f8-4967-be7f-ba7c8029ec0b",
   "metadata": {},
   "source": [
    "8.Write a Python program that uses the `map()` function to round each element of a list of floating-point numbers to the nearest integer."
   ]
  },
  {
   "cell_type": "code",
   "execution_count": 66,
   "id": "4e46a3d7-b567-4c77-980a-eeb083ae9fb3",
   "metadata": {},
   "outputs": [
    {
     "name": "stdout",
     "output_type": "stream",
     "text": [
      "Using map() the rounded value to 1 for each element in list [1.2234, 22.334, 223.3321] is [1.2, 22.3, 223.3]\n"
     ]
    }
   ],
   "source": [
    "list_=[1.2234,22.334,223.3321]\n",
    "def f_to_r(x):\n",
    "        return round(x,1)\n",
    "\n",
    "round_numder=list(map(f_to_r,list_))\n",
    "print(f\"Using map() the rounded value to 1 for each element in list {list_} is\",round_numder)                  "
   ]
  },
  {
   "cell_type": "markdown",
   "id": "8e5efdd7-0cc9-4eba-9151-c40d5cb74163",
   "metadata": {},
   "source": [
    "1.What is the `reduce()` function in Python, and what module should you import to use it? Provide an example of its basic usage."
   ]
  },
  {
   "cell_type": "code",
   "execution_count": 16,
   "id": "0e451904-bfac-4e97-80fa-1fab3572cf18",
   "metadata": {},
   "outputs": [
    {
     "name": "stdout",
     "output_type": "stream",
     "text": [
      "The additon of the elements from the list [1, 2, 3, 4, 5, 6, 7, 7] is: 35\n"
     ]
    }
   ],
   "source": [
    "'''reduce() is a function that belongss to functools module and it is used for aggregating elements of an iterable \n",
    "using a specified function to use reduce() we need to import it from functools module.\n",
    "example'''\n",
    "from functools import reduce\n",
    "numbers=[1,2,3,4,5,6,7,7]\n",
    "def add(x,y):\n",
    "    return x+y\n",
    "result=reduce(add,numbers)\n",
    "print(f\"The additon of the elements from the list {numbers} is:\",result)"
   ]
  },
  {
   "cell_type": "markdown",
   "id": "2268ca07-665d-4c48-95d0-3edb2baa7563",
   "metadata": {},
   "source": [
    "2.Write a Python program that uses the `reduce()` function to find the product of all elements in a list."
   ]
  },
  {
   "cell_type": "code",
   "execution_count": 17,
   "id": "c32dd572-f84c-4b69-9f2e-45bbcbb991fc",
   "metadata": {},
   "outputs": [
    {
     "name": "stdout",
     "output_type": "stream",
     "text": [
      "Multiplication of the elemnets from the list [1, 2, 3] using reduce is : 6\n"
     ]
    }
   ],
   "source": [
    "from functools import reduce\n",
    "num=[1,2,3]\n",
    "def multi_(a,b):\n",
    "    return a*b\n",
    "result=reduce(multi_,num)\n",
    "print(f\"Multiplication of the elemnets from the list {num} using reduce is :\",result)"
   ]
  },
  {
   "cell_type": "markdown",
   "id": "c0724b4d-4a31-47f0-b804-555d5665eb52",
   "metadata": {},
   "source": [
    "3.Create a Python program that uses `reduce()` to find the maximum element in a list of numbers."
   ]
  },
  {
   "cell_type": "code",
   "execution_count": 12,
   "id": "ff789cf2-744b-48fd-a1ce-bde2920e5346",
   "metadata": {},
   "outputs": [
    {
     "name": "stdout",
     "output_type": "stream",
     "text": [
      "12345\n"
     ]
    }
   ],
   "source": [
    "from functools import reduce\n",
    "number_m =[1,2,3,4,5,11,223,22,12345]\n",
    "result=reduce(lambda a,b:a if a>b else b,number_m)\n",
    "print(result)"
   ]
  },
  {
   "cell_type": "markdown",
   "id": "7d2379bb-761d-4bd6-8019-943ead5a6656",
   "metadata": {},
   "source": [
    "4.How can you use the `reduce()` function to concatenate a list of strings into a single string?"
   ]
  },
  {
   "cell_type": "code",
   "execution_count": 31,
   "id": "3aa4bef2-8223-469b-9df5-3adad7220533",
   "metadata": {},
   "outputs": [
    {
     "name": "stdout",
     "output_type": "stream",
     "text": [
      "concatenation of elements in a list ['apple', 'harshini', 'dheeraj', 'harsha', 'namitha', 'harika']: appleharshinidheerajharshanamithaharika\n"
     ]
    }
   ],
   "source": [
    "my_strings=['apple','harshini','dheeraj','harsha','namitha','harika']\n",
    "def con_s(x,y):\n",
    "    return x+y\n",
    "result=reduce(con_s,my_strings)\n",
    "print(f\"concatenation of elements in a list {my_strings}:\",result)\n",
    "    "
   ]
  },
  {
   "cell_type": "markdown",
   "id": "d58ed6cd-4f8a-4a2e-9645-5fdf757f0337",
   "metadata": {},
   "source": [
    "5.Write a Python program that calculates the factorial of a number using the `reduce()` function."
   ]
  },
  {
   "cell_type": "code",
   "execution_count": 22,
   "id": "fc516d58-acb8-448f-80f0-5fe38ca95fd0",
   "metadata": {},
   "outputs": [
    {
     "name": "stdin",
     "output_type": "stream",
     "text": [
      "Enter a number:  3\n"
     ]
    },
    {
     "name": "stdout",
     "output_type": "stream",
     "text": [
      "Factorial of 3! : 6\n"
     ]
    }
   ],
   "source": [
    "from functools import reduce\n",
    "def factorial(n):\n",
    "    if n==0:\n",
    "        return 1\n",
    "    else:\n",
    "        return n * factorial(n-1)\n",
    "n=int(input(\"Enter a number: \"))\n",
    "result=reduce(lambda x,y:x*y,range(1,n+1))\n",
    "print(f\"Factorial of {n}! :\",result)\n",
    "\n"
   ]
  },
  {
   "cell_type": "markdown",
   "id": "4da5f998-1d5b-4e8a-b269-8da743c8ae07",
   "metadata": {},
   "source": [
    "6.Create a Python program that uses `reduce()` to find the GCD (Greatest Common Divisor) of a list of numbers."
   ]
  },
  {
   "cell_type": "code",
   "execution_count": 23,
   "id": "30af2e5c-cded-4f94-8023-ec9ad28516f6",
   "metadata": {},
   "outputs": [
    {
     "name": "stdout",
     "output_type": "stream",
     "text": [
      "GCD of [48, 38, 50] is : 2\n"
     ]
    }
   ],
   "source": [
    "from functools import reduce\n",
    "\n",
    "numbers=[48,38,50]\n",
    "def gcd(x,y):\n",
    "    while y!=0:\n",
    "        x,y=y,x%y\n",
    "    return x\n",
    "result=reduce(gcd,numbers)\n",
    "print(f\"GCD of {numbers} is :\",result)"
   ]
  },
  {
   "cell_type": "markdown",
   "id": "62f9e557-cca1-443e-86a2-7dba76b302a4",
   "metadata": {},
   "source": [
    "7.Write a Python program that uses the `reduce()` function to find the sum of the digits of a given number."
   ]
  },
  {
   "cell_type": "code",
   "execution_count": 24,
   "id": "be7867e5-fc4a-4d40-a185-0f502fcf0d1e",
   "metadata": {},
   "outputs": [
    {
     "name": "stdout",
     "output_type": "stream",
     "text": [
      "Sum of digits of 1234 : 10\n"
     ]
    }
   ],
   "source": [
    "from functools import reduce\n",
    "def add_digit(sum_,n):\n",
    "    return sum_+int(n)\n",
    "number=\"1234\"\n",
    "\n",
    "sum_od_digits=reduce(add_digit,number,0)\n",
    "#sum_=0\n",
    "print(f\"Sum of digits of {number} :\",sum_od_digits)"
   ]
  },
  {
   "cell_type": "markdown",
   "id": "083de797-1c43-495a-ac77-6869ef3decb7",
   "metadata": {},
   "source": [
    "1.Explain the purpose of the `filter()` function in Python and provide an example of how it can be used to filter elements from an iterable."
   ]
  },
  {
   "cell_type": "code",
   "execution_count": 30,
   "id": "7969f5ca-e756-47f2-aa97-4065d059a386",
   "metadata": {},
   "outputs": [
    {
     "name": "stdout",
     "output_type": "stream",
     "text": [
      "[2, 4, 22, 42, 6]\n"
     ]
    },
    {
     "data": {
      "text/plain": [
       "list"
      ]
     },
     "execution_count": 30,
     "metadata": {},
     "output_type": "execute_result"
    }
   ],
   "source": [
    "'''in python filter() is userd to filter elements from an iterable(like a list,tuple or other sequence) based on a specified condition.\n",
    "It creates a new iterable containing only the elements that meet the given condition.\n",
    "\n",
    "syntax for filter() function is :\n",
    "filter(function,iterable)\n",
    "\n",
    "Iterable is a sequence of the elements that we want to filter.\n",
    "\n",
    "filter() returns an iterator which is we are typically converting it into list,tuple or another iterable to see the filtered result.\n",
    "\n",
    "Example'''\n",
    "\n",
    "def is_even(num):\n",
    "    return num%2==0\n",
    "numbers=[1,2,3,4,22,3,42,45,6,77]\n",
    "even_numbers=list(filter(is_even,numbers))\n",
    "print(even_numbers)\n",
    "type(even_numbers)"
   ]
  },
  {
   "cell_type": "markdown",
   "id": "2c673137-a2bc-4773-9972-ce2b76d1a3c5",
   "metadata": {},
   "source": [
    "2.Write a Python program that uses the `filter()` function to select even numbers from a list of integers."
   ]
  },
  {
   "cell_type": "code",
   "execution_count": 31,
   "id": "9baf9be7-34b7-42f0-8a03-331e5bdd06c4",
   "metadata": {},
   "outputs": [
    {
     "name": "stdout",
     "output_type": "stream",
     "text": [
      "[2, 4, 22, 42, 6]\n"
     ]
    }
   ],
   "source": [
    "def is_even(num):\n",
    "    return num%2==0\n",
    "numbers=[1,2,3,4,22,3,42,45,6,77]\n",
    "even_numbers=list(filter(is_even,numbers))\n",
    "print(even_numbers)"
   ]
  },
  {
   "cell_type": "markdown",
   "id": "0d8b6549-db10-4497-9fd5-b3e1056c1420",
   "metadata": {},
   "source": [
    "3.Create a Python program that uses the `filter()` function to select names that start with a specific letter from a list of strings."
   ]
  },
  {
   "cell_type": "code",
   "execution_count": 4,
   "id": "de76f833-27d2-4721-9e6f-2f4254e1b44f",
   "metadata": {},
   "outputs": [
    {
     "name": "stdin",
     "output_type": "stream",
     "text": [
      "Enter a letter:  a\n"
     ]
    },
    {
     "name": "stdout",
     "output_type": "stream",
     "text": [
      "filtered list of ['apple', 'banana', 'cat', 'dog', 'elephant', 'apricot', 'bat'] using user input a is :  ['apple', 'apricot']\n"
     ]
    }
   ],
   "source": [
    "list_of_strings=['apple','banana','cat','dog','elephant','apricot','bat']\n",
    "def specific_letter(n,user_):\n",
    "    if n[0]==user_:\n",
    "        return True\n",
    "    else:\n",
    "        return False\n",
    "user_=input(\"Enter a letter: \")\n",
    "filtered_=list(filter(lambda x:specific_letter(x,user_),list_of_strings))\n",
    "print(f\"filtered list of {list_of_strings} using user input {user_} is : \",filtered_)\n",
    "    "
   ]
  },
  {
   "cell_type": "markdown",
   "id": "3236f0a9-1b56-4411-8d5e-fa4a384c0d61",
   "metadata": {},
   "source": [
    "4.Write a Python program that uses the `filter()` function to select prime numbers from a list of integers."
   ]
  },
  {
   "cell_type": "code",
   "execution_count": 3,
   "id": "fbac2cb3-8711-446b-ade2-736ce28d5a43",
   "metadata": {},
   "outputs": [
    {
     "name": "stdout",
     "output_type": "stream",
     "text": [
      "[2, 4, 8, 10]\n"
     ]
    }
   ],
   "source": [
    "list_of_strings=[1,2,3,4,5,67,8,9,10]\n",
    "filtered_1=list(filter(lambda x:x%2==0,list_of_strings))    \n",
    "print(filtered_1)"
   ]
  },
  {
   "cell_type": "markdown",
   "id": "26a1b778-789d-4bf0-a197-394b5f3a7fde",
   "metadata": {},
   "source": [
    "5.How can you use the `filter()` function to remove None values from a list in Python?"
   ]
  },
  {
   "cell_type": "code",
   "execution_count": 4,
   "id": "8bfa87ef-2214-42e0-944a-b966916919a0",
   "metadata": {},
   "outputs": [
    {
     "name": "stdout",
     "output_type": "stream",
     "text": [
      "[1, 2, 3, 4, 5]\n"
     ]
    }
   ],
   "source": [
    "original_list = [1, None, 2, None, 3, 4, None, 5, None]\n",
    "filtered_list = list(filter(lambda x: x is not None, original_list))\n",
    "\n",
    "print(filtered_list)\n"
   ]
  },
  {
   "cell_type": "markdown",
   "id": "723de946-8996-4bd8-b2bc-0b004dfac83e",
   "metadata": {},
   "source": [
    "6.Create a Python program that uses `filter()` to select words longer than a certain length from a list of strings."
   ]
  },
  {
   "cell_type": "code",
   "execution_count": 14,
   "id": "77daa0a0-502d-4e52-89e5-da44a61386cc",
   "metadata": {},
   "outputs": [
    {
     "name": "stdin",
     "output_type": "stream",
     "text": [
      "enter a certain length:  7\n"
     ]
    },
    {
     "name": "stdout",
     "output_type": "stream",
     "text": [
      "The words longer than 7 from a list of strings :  ['elephant', 'apricot']\n"
     ]
    }
   ],
   "source": [
    "list_of_strings=['apple','banana','cat','dog','elephant','apricot','bat']\n",
    "def specific_len(n,user_):\n",
    "    return len(n)>=user_\n",
    "user_=int(input(\"enter a certain length: \"))\n",
    "filtered_=list(filter(lambda x:specific_len(x,user_),list_of_strings))\n",
    "print(f\"The words longer than {user_} from a list of strings : \",filtered_)"
   ]
  },
  {
   "cell_type": "markdown",
   "id": "32bd7943-b24e-4819-a3cc-6e973553317e",
   "metadata": {},
   "source": [
    "7.Write a Python program that uses the `filter()` function to select elements greater than a specified threshold from a list of values."
   ]
  },
  {
   "cell_type": "code",
   "execution_count": 4,
   "id": "2d229ee7-bdff-43c2-9ced-fff3df67430b",
   "metadata": {},
   "outputs": [
    {
     "name": "stdout",
     "output_type": "stream",
     "text": [
      "Values greater than 25 are: [30, 40, 50, 35, 45]\n"
     ]
    }
   ],
   "source": [
    "values = [10, 25, 5, 30, 15, 40, 50, 20,35,45]\n",
    "\n",
    "threshold = 25\n",
    "\n",
    "filtered_values = list(filter(lambda x: x > threshold, values))\n",
    "\n",
    "print(\"Values greater than\", threshold, \"are:\", filtered_values)\n"
   ]
  },
  {
   "cell_type": "markdown",
   "id": "3172859c-366e-4ac8-b106-f33ab5221f6d",
   "metadata": {},
   "source": [
    "1.Explain the concept of recursion in Python. How does it differ from iteration?"
   ]
  },
  {
   "cell_type": "code",
   "execution_count": 10,
   "id": "2709e59a-0754-429b-9ba1-1e07fedf8ade",
   "metadata": {},
   "outputs": [
    {
     "name": "stdout",
     "output_type": "stream",
     "text": [
      "Factorial is:  6\n"
     ]
    }
   ],
   "source": [
    "'''Recursion is a programming technique in Python where a function calls itself in order to solve a problem. \n",
    "It is a powerful and elegant way to solve complex problems that can be broken down into smaller, similar subproblems. \n",
    "Recursion can be thought of as a process that solves a problem by solving one or more smaller instances of the same problem until it reaches a base case,\n",
    "which is a simple, non-recursive case that can be solved directly.\n",
    "\n",
    "Here's a basic example of a recursive function in Python:'''\n",
    "def factorial(n):\n",
    "    # Base case\n",
    "    if n == 0:\n",
    "        return 1\n",
    "    # Recursive case\n",
    "    else:\n",
    "        return n * factorial(n - 1)\n",
    "    \n",
    "e=factorial(3)\n",
    "print(\"Factorial is: \",e)\n"
   ]
  },
  {
   "cell_type": "markdown",
   "id": "d623d56f-7bb5-4b4b-a44a-94a927bf09d1",
   "metadata": {},
   "source": [
    "In this example, the factorial function calculates the factorial of a non-negative integer n. It uses recursion to break down the problem into smaller subproblems, where factorial(n) is defined in terms of factorial(n - 1). The base case is when n is 0, in which case the function returns 1. This base case prevents infinite recursion, and the function eventually returns a result by multiplying n with the result of the smaller subproblem.\n",
    "\n",
    "Recursion differs from iteration in the following ways:\n",
    "\n",
    "Control flow:\n",
    "\n",
    "In recursion, a function calls itself, and each call creates a new stack frame with its own set of local variables and parameters.\n",
    "In iteration, you use loop structures like for and while to repeatedly execute a block of code without creating new function call stack frames.\n",
    "Code readability:\n",
    "\n",
    "Recursion can make code more concise and expressive when dealing with problems that naturally involve recursive subproblems.\n",
    "Iteration is typically used for simpler, repetitive tasks or when you want more control over the loop's behavior.\n",
    "Stack usage:\n",
    "\n",
    "Recursive functions use the call stack to keep track of function calls, which can lead to stack overflow errors if the recursion depth is too deep. You may need to optimize recursive functions or use iterative solutions for very large inputs.\n",
    "Iterative solutions usually do not have the same stack depth limitations, making them more suitable for certain cases.\n",
    "Performance:\n",
    "\n",
    "In some cases, recursion can be less efficient than iteration due to the overhead of function calls and the use of the call stack.\n",
    "Iteration is often more efficient and predictable in terms of performance.\n",
    "In summary, recursion is a powerful technique for solving problems by breaking them down into smaller, similar subproblems and solving them using the same function. While recursion can lead to elegant and readable code, it may not always be the most efficient choice, and careful consideration of base cases and stack usage is important to avoid potential issues like stack overflow. Iteration, on the other hand, is a more straightforward and efficient way to perform repetitive tasks and is often preferred when recursion is not necessary."
   ]
  },
  {
   "cell_type": "markdown",
   "id": "ae377431-c32a-417a-8518-fec97781a724",
   "metadata": {},
   "source": [
    "2.Write a Python program to calculate the factorial of a number using recursion."
   ]
  },
  {
   "cell_type": "code",
   "execution_count": 11,
   "id": "46cb9df3-ca08-46d2-8c61-64a1ed13d9c0",
   "metadata": {},
   "outputs": [
    {
     "name": "stdout",
     "output_type": "stream",
     "text": [
      "Factorial is:  6\n"
     ]
    }
   ],
   "source": [
    "def factorial(n):\n",
    "    # Base case\n",
    "    if n == 0:\n",
    "        return 1\n",
    "    # Recursive case\n",
    "    else:\n",
    "        return n * factorial(n - 1)\n",
    "    \n",
    "e=factorial(3)\n",
    "print(\"Factorial is: \",e)\n"
   ]
  },
  {
   "cell_type": "markdown",
   "id": "5de56d22-aaa5-4c15-ac94-fb6aa6333385",
   "metadata": {},
   "source": [
    "3.Create a recursive Python function to find the nth Fibonacci number."
   ]
  },
  {
   "cell_type": "code",
   "execution_count": 20,
   "id": "0882245c-64c0-41e8-afcf-e509d360ed0b",
   "metadata": {},
   "outputs": [
    {
     "name": "stdout",
     "output_type": "stream",
     "text": [
      "The first 9 Fibonacci numbers are: [0, 1, 1, 2, 3, 5, 8, 13, 21, 34]\n"
     ]
    }
   ],
   "source": [
    "def fibonacci_recursive(n):\n",
    "    if n <= 0:\n",
    "        return [0]\n",
    "    elif n == 1:\n",
    "        return [0, 1]\n",
    "    else:\n",
    "        prev_fibonacci = fibonacci_recursive(n - 1)\n",
    "        return prev_fibonacci + [prev_fibonacci[-1] + prev_fibonacci[-2]]\n",
    "n = 9\n",
    "fibonacci_list = fibonacci_recursive(n)\n",
    "print(f\"The first {n} Fibonacci numbers are: {fibonacci_list}\")"
   ]
  },
  {
   "cell_type": "markdown",
   "id": "6d337126-1967-499e-ad05-2620ffeedeab",
   "metadata": {},
   "source": [
    "4.Write a recursive Python function to calculate the sum of all elements in a list."
   ]
  },
  {
   "cell_type": "code",
   "execution_count": 28,
   "id": "53ccb7fd-39f7-45be-9d68-f705183a053c",
   "metadata": {},
   "outputs": [
    {
     "name": "stdout",
     "output_type": "stream",
     "text": [
      "sum of elements in [1, 2, 3, 4, 5] : 15\n"
     ]
    }
   ],
   "source": [
    "list_of_elements = [1, 2, 3, 4, 5]\n",
    "\n",
    "def sum_of_elements(lst):\n",
    "    if len(lst) == 0:\n",
    "        return 0\n",
    "    else:\n",
    "        return lst[0] + sum_of_elements(lst[1:])\n",
    "\n",
    "s = sum_of_elements(list_of_elements)\n",
    "print(f\"sum of elements in {list_of_elements} :\",s)\n"
   ]
  },
  {
   "cell_type": "markdown",
   "id": "e8990be3-81d8-4628-a175-1c60270b932d",
   "metadata": {},
   "source": [
    "5.How can you prevent a recursive function from running indefinitely, causing a stack overflow error?"
   ]
  },
  {
   "cell_type": "code",
   "execution_count": 31,
   "id": "01a2504f-6d1c-4cde-bbfb-eebcdbe7114e",
   "metadata": {},
   "outputs": [
    {
     "name": "stdout",
     "output_type": "stream",
     "text": [
      "6\n"
     ]
    }
   ],
   "source": [
    "'''Preventing a recursive function from running indefinitely, causing a stack overflow error, typically involves implementing one or more of the following techniques:\n",
    "\n",
    "Base Case: Ensure that your recursive function has a base case that acts as a termination condition. When the input to the function meets this condition, \n",
    "the function should return a result without making further recursive calls. This ensures that the recursion stops at some point.\n",
    "\n",
    "Proper Recursive Step: Ensure that in the recursive case, you are making progress toward the base case. In other words, \n",
    "the input to the recursive function should be getting closer to the base case with each recursive call. If not, you risk infinite recursion.\n",
    "\n",
    "Limit Recursion Depth: You can set a limit on the maximum recursion depth by using language-specific mechanisms or techniques. \n",
    "In Python, for example, you can use the sys.setrecursionlimit(limit) function to set a maximum recursion depth. However, \n",
    "be cautious when using this approach, as setting an excessively high limit can still lead to stack overflow errors.\n",
    "\n",
    "Iterative Alternative: In some cases, you can rewrite a recursive function as an iterative one. \n",
    "Iterative solutions often do not suffer from stack overflow issues because they use loops instead of function calls, which do not create additional stack frames.\n",
    "\n",
    "Memoization: If your recursive function involves redundant calculations of the same values, \n",
    "consider using memoization (caching) to store previously computed results in a data structure like a dictionary. This can significantly reduce the number of recursive calls.\n",
    "\n",
    "Tail Recursion: In languages that support tail call optimization (e.g., some functional languages), \n",
    "you can use tail recursion, which optimizes recursive calls to prevent stack overflow errors. In tail-recursive functions, \n",
    "the recursive call is the last operation before returning a result.\n",
    "\n",
    "Here's an example of a tail-recursive version of the factorial function in Python:\n",
    "'''\n",
    "\n",
    "def factorial(n, result=1):\n",
    "    if n == 0:\n",
    "        return result\n",
    "    else:\n",
    "        return factorial(n - 1, n * result)\n",
    "print(factorial(3))"
   ]
  },
  {
   "cell_type": "markdown",
   "id": "fe9b66f4-5b31-4844-bb51-3b7d08e11385",
   "metadata": {},
   "source": [
    "6.Create a recursive Python function to find the greatest common divisor (GCD) of two numbers using the Euclidean algorithm."
   ]
  },
  {
   "cell_type": "code",
   "execution_count": 34,
   "id": "ce29e8ed-7fea-445e-a455-baddef179f68",
   "metadata": {},
   "outputs": [
    {
     "name": "stdout",
     "output_type": "stream",
     "text": [
      "The GCD of 44 and 18 is: 2\n"
     ]
    }
   ],
   "source": [
    "def gcd_recursive(a, b):\n",
    "    if b == 0:\n",
    "        return a\n",
    "    else:\n",
    "        return gcd_recursive(b, a % b)\n",
    "num1 = 44\n",
    "num2 = 18\n",
    "result = gcd_recursive(num1, num2)\n",
    "print(f\"The GCD of {num1} and {num2} is: {result}\")\n"
   ]
  },
  {
   "cell_type": "markdown",
   "id": "dbd6665b-8486-4f16-8414-69fed235173f",
   "metadata": {},
   "source": [
    "7.Write a recursive Python function to reverse a string."
   ]
  },
  {
   "cell_type": "code",
   "execution_count": 5,
   "id": "601ce442-127f-4d2e-906c-985c4d376d65",
   "metadata": {},
   "outputs": [
    {
     "name": "stdin",
     "output_type": "stream",
     "text": [
      "enter a string:  harshini\n"
     ]
    },
    {
     "name": "stdout",
     "output_type": "stream",
     "text": [
      "inihsrah\n"
     ]
    }
   ],
   "source": [
    "string=input(\"enter a string: \")\n",
    "def reverse_of_string(s):\n",
    "    if len(s)==0:\n",
    "        return s\n",
    "    else:\n",
    "        return reverse_of_string(s[1:])+s[0]\n",
    "si=reverse_of_string(string)\n",
    "print(si)"
   ]
  },
  {
   "cell_type": "markdown",
   "id": "9e891caf-dcee-4abf-94b8-9aac293ea5da",
   "metadata": {},
   "source": [
    "8.Create a recursive Python function to calculate the power of a number (x^n)."
   ]
  },
  {
   "cell_type": "code",
   "execution_count": 6,
   "id": "9230a656-c3dd-4c9f-bc7d-3f0629ab15e1",
   "metadata": {},
   "outputs": [
    {
     "name": "stdout",
     "output_type": "stream",
     "text": [
      "9\n"
     ]
    }
   ],
   "source": [
    "def power(x,n):\n",
    "    if n==0:\n",
    "        return 1\n",
    "    else:\n",
    "        return x*power(x,n-1)\n",
    "result=power(3,2)\n",
    "print(result)"
   ]
  },
  {
   "cell_type": "markdown",
   "id": "5d7e7a02-54e3-40d6-888f-391b5522c9d8",
   "metadata": {},
   "source": [
    "9.Write a recursive Python function to find all permutations of a given string."
   ]
  },
  {
   "cell_type": "code",
   "execution_count": 2,
   "id": "2e3114be-8ebf-480b-b6a1-a5dce2507279",
   "metadata": {},
   "outputs": [
    {
     "name": "stdin",
     "output_type": "stream",
     "text": [
      "Enter a string:  lol\n"
     ]
    },
    {
     "name": "stdout",
     "output_type": "stream",
     "text": [
      "lol\n",
      "llo\n",
      "oll\n",
      "oll\n",
      "llo\n",
      "lol\n"
     ]
    }
   ],
   "source": [
    "def permu(string,current=\"\"):\n",
    "    if len(string)==0:\n",
    "        print(current)\n",
    "    else:\n",
    "        for i in range(len(string)):\n",
    "            remaining=string[:i]+string[i+1:]\n",
    "            permu(remaining,current+string[i])\n",
    "            \n",
    "input_=input(\"Enter a string: \")\n",
    "permu(input_)"
   ]
  },
  {
   "cell_type": "markdown",
   "id": "1152fb4e-d795-4324-9eb8-25b408e2226a",
   "metadata": {},
   "source": [
    "10.Write a recursive Python function to check if a string is a palindrome."
   ]
  },
  {
   "cell_type": "code",
   "execution_count": 8,
   "id": "0c9ef885-8efe-4389-b811-e37856838386",
   "metadata": {},
   "outputs": [
    {
     "name": "stdout",
     "output_type": "stream",
     "text": [
      "True\n"
     ]
    }
   ],
   "source": [
    "string=\"Lol\"\n",
    "def pali(s):\n",
    "    s=s.lower()\n",
    "    s=''.join(filter(str.isalnum,s))\n",
    "    if len(s)<=1:\n",
    "        return True\n",
    "    elif s[0]!=s[-1]:\n",
    "        return False\n",
    "    else:\n",
    "        return pali(s[1:-1])\n",
    "result=pali(string)\n",
    "print(result)"
   ]
  },
  {
   "cell_type": "markdown",
   "id": "2cc8871a-6c3f-4173-8b30-55d229495676",
   "metadata": {},
   "source": [
    "11.Create a recursive Python function to generate all possible combinations of a list of elements."
   ]
  },
  {
   "cell_type": "code",
   "execution_count": 8,
   "id": "bb5cf279-ce7e-4d31-92ad-b6e62d0d6900",
   "metadata": {},
   "outputs": [
    {
     "name": "stdout",
     "output_type": "stream",
     "text": [
      "[[1, 2], [1, 3], [1, 4], [2, 3], [2, 4], [3, 4]]\n"
     ]
    }
   ],
   "source": [
    "def generate_combinations(elements, r):\n",
    "    def generate_combinations_helper(current_combination, start_index):\n",
    "        if len(current_combination) == r:\n",
    "            combinations.append(current_combination[:])\n",
    "            return\n",
    "\n",
    "        for i in range(start_index, len(elements)):\n",
    "            current_combination.append(elements[i])\n",
    "            generate_combinations_helper(current_combination, i + 1)\n",
    "            current_combination.pop()\n",
    "\n",
    "    if r < 0 or r > len(elements):\n",
    "        return []\n",
    "\n",
    "    combinations = []\n",
    "    generate_combinations_helper([], 0)\n",
    "    return combinations\n",
    "\n",
    "# Example usage:\n",
    "elements = [1, 2, 3,4]\n",
    "r = 2\n",
    "combinations = generate_combinations(elements, r)\n",
    "print(combinations)\n"
   ]
  },
  {
   "cell_type": "markdown",
   "id": "3458a714-798d-4272-a1f7-0496a12fb0b1",
   "metadata": {},
   "source": [
    "1.What is a function in Python, and why is it used?"
   ]
  },
  {
   "cell_type": "markdown",
   "id": "2d810659-d86f-41cc-91a6-7774b888b7e4",
   "metadata": {},
   "source": [
    "a function is a reusable block of code that performs a specific task or a set of related tasks. \n",
    "Functions are defined using the def keyword followed by a function name, a set of parameters (if any), and a block of code. \n",
    "Here's a basic syntax for defining a function in Python:\n",
    "\n",
    "def function_name(parameters):\n",
    "    # Function code\n",
    "    # ...\n",
    "    return result  # (optional)\n",
    "\n",
    "\n",
    "\n",
    "def: This keyword is used to declare the beginning of a function definition. function_name: This is the name you choose for your function. It should follow the rules for variable names in Python and should be descriptive of what the function does. parameters: These are optional input values that the function can accept. You can define zero or more parameters inside the parentheses. Parameters allow you to pass data into the function for it to work with. : (colon): It marks the end of the function header and signals the start of the function body. Function code: This is the block of code that is executed when the function is called. It can contain any valid Python statements. return (optional): This keyword is used to specify the value that the function should return to the caller. A function can have zero or more return statements, and if there is no return statement, the function returns None by default.\n",
    "\n",
    "Here are some specific reasons why functions are commonly used in Python: Modularity,Code Reusability,Abstraction,Parameterization,Standard Library and Third-Party Modules,Code Readability,Testing and Debugging,Functional Programming"
   ]
  },
  {
   "cell_type": "markdown",
   "id": "f5673f06-5109-43ef-b9f1-bb45906915f3",
   "metadata": {},
   "source": [
    "2.How do you define a function in Python? Provide an example."
   ]
  },
  {
   "cell_type": "code",
   "execution_count": 9,
   "id": "8d0d0822-bd36-45f8-890d-f14cf6344cdb",
   "metadata": {},
   "outputs": [
    {
     "name": "stdout",
     "output_type": "stream",
     "text": [
      "9\n"
     ]
    }
   ],
   "source": [
    "'''a function is a reusable block of code that performs a specific task or a set of related tasks. \n",
    "Functions are defined using the def keyword followed by a function name, a set of parameters (if any), and a block of code. \n",
    "Here's a basic syntax for defining a function in Python:\n",
    "\n",
    "def function_name(parameters):\n",
    "    # Function code\n",
    "    # ...\n",
    "    return result  # (optional)'''\n",
    "\n",
    "def power(x,n):\n",
    "    if n==0:\n",
    "        return 1\n",
    "    else:\n",
    "        return x*power(x,n-1)\n",
    "result=power(3,2)\n",
    "print(result)\n",
    "\n"
   ]
  },
  {
   "cell_type": "markdown",
   "id": "1a3619aa-811c-435e-890a-80babf07d4f7",
   "metadata": {},
   "source": [
    "3.Explain the difference between a function definition and a function call."
   ]
  },
  {
   "cell_type": "markdown",
   "id": "1ca6fde7-ca82-4db8-8212-df13630a3af6",
   "metadata": {},
   "source": [
    "'''Function Definition:\n",
    "\n",
    "A function definition is the process of creating a new function in your Python code.\n",
    "\n",
    "It involves specifying the function's name, its parameters (if any), and the code block that represents the functionality of the function.\n",
    "\n",
    "When you define a function, you are essentially creating a reusable blueprint or template for a specific task or set of operations.\n",
    "\n",
    "The function definition typically occurs at the beginning of your Python script or module.\n",
    "\n",
    "It does not execute the code inside the function; instead, it defines what the function will do when called.\n",
    "\n",
    "In Python, function definitions use the def keyword, followed by the function name and a colon, like this:\n",
    "\n",
    "def my_function(parameter1, parameter2):\n",
    "    # Function code goes here\n",
    "\n",
    "\n",
    "Function Call:\n",
    "\n",
    "A function call is the process of invoking or executing a function that has been previously defined.\n",
    "\n",
    "When you call a function, you are instructing the Python interpreter to execute the code inside that function.\n",
    "\n",
    "To call a function, you use its name followed by parentheses, and you may provide arguments (values) for its parameters inside the parentheses.\n",
    "\n",
    "The function call is where the actual work or computation takes place.\n",
    "\n",
    "It can be called multiple times, and each call runs the code inside the function independently with potentially different inputs.\n",
    "\n",
    "In Python, a function call might look like this:\n",
    "result = my_function(argument1, argument2)\n",
    "In this example, my_function is called with argument1 and argument2, and it performs the operations defined in its code block using these arguments.'''"
   ]
  },
  {
   "cell_type": "markdown",
   "id": "17c98c83-c3a8-46b0-ad8a-008691feaf3f",
   "metadata": {},
   "source": [
    "4.Write a Python program that defines a function to calculate the sum of two numbers and then calls the function."
   ]
  },
  {
   "cell_type": "code",
   "execution_count": 11,
   "id": "2491a472-8055-4269-b019-59b3439f8f98",
   "metadata": {},
   "outputs": [
    {
     "name": "stdout",
     "output_type": "stream",
     "text": [
      "3\n"
     ]
    }
   ],
   "source": [
    "def add(a,b):\n",
    "    return a+b\n",
    "addition=add(1,2)\n",
    "print(addition)    "
   ]
  },
  {
   "cell_type": "markdown",
   "id": "8c21817c-6fa9-46dd-bcab-cbe994182116",
   "metadata": {},
   "source": [
    "5.What is a function signature, and what information does it typically include?"
   ]
  },
  {
   "cell_type": "markdown",
   "id": "ca31da7d-4391-4dba-817f-7f17dd0e6d5f",
   "metadata": {},
   "source": [
    "the term \"function signature\" is often used to refer to a function's name and its parameter list, which is also known as the function header. The function signature typically includes the following information:\n",
    "\n",
    "Function Name: The name of the function, which is used to identify and call the function. Function names in Python should follow the rules of the language for valid identifiers and be descriptive of the function's purpose.\n",
    "\n",
    "Parameter List: The list of input parameters (also known as arguments) that the function expects. Each parameter includes its name and can optionally include type annotations. The parameter list defines what information or values the function needs to perform its task.\n",
    "\n",
    "def calculate_area(length: float, width: float) -> float:\n"
   ]
  },
  {
   "cell_type": "markdown",
   "id": "c0520fe9-2a62-4d50-a7b6-582cb6b61cf2",
   "metadata": {},
   "source": [
    "6.Create a Python function that takes two arguments and returns their product."
   ]
  },
  {
   "cell_type": "code",
   "execution_count": 12,
   "id": "688fb828-1dc4-4dc9-acae-9df4ce483701",
   "metadata": {},
   "outputs": [
    {
     "name": "stdout",
     "output_type": "stream",
     "text": [
      "Product: 15\n"
     ]
    }
   ],
   "source": [
    "def multiply(x, y):\n",
    "    \"\"\"\n",
    "    Multiplies two numbers and returns the result.\n",
    "\n",
    "    Args:\n",
    "        x (float or int): The first number.\n",
    "        y (float or int): The second number.\n",
    "\n",
    "    Returns:\n",
    "        float or int: The product of x and y.\n",
    "    \"\"\"\n",
    "    result = x * y\n",
    "    return result\n",
    "\n",
    "# Example usage:\n",
    "num1 = 5\n",
    "num2 = 3\n",
    "product = multiply(num1, num2)\n",
    "print(\"Product:\", product)\n"
   ]
  },
  {
   "cell_type": "markdown",
   "id": "a10782ce-4fa7-4d89-bf45-3df1d281961c",
   "metadata": {},
   "source": [
    "1.Explain the concepts of formal parameters and actual arguments in Python functions."
   ]
  },
  {
   "cell_type": "code",
   "execution_count": 14,
   "id": "ef61abb2-ef41-4ea9-9870-7370d435c837",
   "metadata": {},
   "outputs": [],
   "source": [
    "'''Formal Parameters:\n",
    "\n",
    "Formal parameters are placeholders defined in the function's parameter list (inside the parentheses) when you declare or define a function. \n",
    "They serve as variables that represent the values you expect to receive when the function is called.\n",
    "Formal parameters are like variables that are local to the function, meaning they are only accessible within the function's scope.\n",
    "You can give formal parameters names, and you can specify their data types (although this is not required in Python).\n",
    "Formal parameters are used to receive and work with the actual arguments passed to the function when it is called.\n",
    "They act as variables that take on the values of the actual arguments during the function's execution.\n",
    "Formal parameters allow you to make your function flexible by accepting different input values.'''\n",
    "\n",
    "def add(x, y):\n",
    "    result = x + y\n",
    "    return result"
   ]
  },
  {
   "cell_type": "code",
   "execution_count": null,
   "id": "7df44681-b867-4584-83c5-e9a6292de50d",
   "metadata": {},
   "outputs": [],
   "source": [
    "'''Actual Arguments (Arguments):\n",
    "\n",
    "Actual arguments, often referred to simply as \"arguments,\" are the values or expressions that are passed to a function when it is called.\n",
    "These values are provided inside the parentheses when calling the function.\n",
    "The actual arguments correspond to the formal parameters in the function's parameter list, and their order matters.\n",
    "When you call a function and provide actual arguments, the function assigns these values to its formal parameters.\n",
    "Actual arguments can be literals (e.g., numbers, strings), variables, expressions, or the result of other function calls.'''\n",
    "\n",
    "result = add(3, 4)\n"
   ]
  },
  {
   "cell_type": "markdown",
   "id": "7ad640a0-ea05-4ba3-9a32-edda90ebde4b",
   "metadata": {},
   "source": [
    "2.Write a Python program that defines a function with default argument values."
   ]
  },
  {
   "cell_type": "code",
   "execution_count": 1,
   "id": "3a7dc37d-ead3-43f3-be1a-9ad2012d8426",
   "metadata": {},
   "outputs": [
    {
     "name": "stdout",
     "output_type": "stream",
     "text": [
      "Hello, Alice!\n",
      "Hi, Bob!\n"
     ]
    }
   ],
   "source": [
    "'''\n",
    "a function with default argument values is by providing default values for some or all of the function's parameters in the function definition. \n",
    "Here's an example of a Python program that defines such a function:\n",
    "\n",
    "In this program:\n",
    "\n",
    "The greet function is defined with two parameters: name and greeting. The greeting parameter has a default value of \"Hello.\"\n",
    "Inside the function, it constructs a greeting message using the provided name and greeting parameters (or their defaults).\n",
    "The function returns the complete greeting message as a string.\n",
    "When calling the greet function:\n",
    "\n",
    "In the first call, we only provide the name argument (\"Alice\"), so the default greeting \"Hello\" is used.\n",
    "In the second call, we provide both the name argument (\"Bob\") and a custom greeting (\"Hi\").'''\n",
    "\n",
    "def greet(name, greeting=\"Hello\"):\n",
    "    \"\"\"\n",
    "    Greets a person with a default greeting (Hello) or a custom greeting.\n",
    "\n",
    "    Args:\n",
    "        name (str): The name of the person.\n",
    "        greeting (str, optional): The greeting to use. Defaults to \"Hello\".\n",
    "\n",
    "    Returns:\n",
    "        str: The complete greeting message.\n",
    "    \"\"\"\n",
    "    return f\"{greeting}, {name}!\"\n",
    "\n",
    "# Example usage:\n",
    "default_greeting = greet(\"Alice\")\n",
    "custom_greeting = greet(\"Bob\", \"Hi\")\n",
    "\n",
    "print(default_greeting)\n",
    "print(custom_greeting)\n"
   ]
  },
  {
   "cell_type": "markdown",
   "id": "07f80af2-4565-46f5-9533-e4262a01b4a1",
   "metadata": {},
   "source": [
    "3.How do you use keyword arguments in Python function calls? Provide an example."
   ]
  },
  {
   "cell_type": "code",
   "execution_count": 3,
   "id": "282ebe38-ccf7-4851-af7f-24c5c5a23e24",
   "metadata": {},
   "outputs": [
    {
     "name": "stdout",
     "output_type": "stream",
     "text": [
      "Hi, Alice!\n",
      "Hello, Bob???\n"
     ]
    }
   ],
   "source": [
    "'''In Python, you can use keyword arguments in function calls to specify arguments by their parameter names, rather than relying on the order of the arguments. \n",
    "This can make your code more readable and less error-prone, especially when functions have many arguments. \n",
    "To use keyword arguments, you provide the parameter name followed by a colon and the argument's value.\n",
    "\n",
    "Here's how you use keyword arguments in Python function calls:\n",
    "\n",
    "function_name(param1=value1, param2=value2, ...)\n",
    "'''\n",
    "\n",
    "def greet(name, greeting=\"Hello\", punctuation=\"!\"):\n",
    "    return f\"{greeting}, {name}{punctuation}\"\n",
    "\n",
    "# Using keyword arguments\n",
    "message1 = greet(name=\"Alice\", greeting=\"Hi\")\n",
    "message2 = greet(name=\"Bob\", punctuation=\"???\")\n",
    "\n",
    "print(message1)\n",
    "print(message2)\n"
   ]
  },
  {
   "cell_type": "markdown",
   "id": "cb630787-1eb1-46cb-a472-9aba935eb4d2",
   "metadata": {},
   "source": [
    "4.Create a Python function that accepts a variable number of arguments and calculates their sum."
   ]
  },
  {
   "cell_type": "code",
   "execution_count": 4,
   "id": "42e45a09-abcb-4ba2-a57e-d88d2673cae7",
   "metadata": {},
   "outputs": [
    {
     "name": "stdout",
     "output_type": "stream",
     "text": [
      "6\n",
      "30\n"
     ]
    }
   ],
   "source": [
    "'''You can create a Python function that accepts a variable number of arguments and calculates their sum using the *args syntax. \n",
    "The *args parameter allows you to pass a variable number of positional arguments to the function, and you can then iterate through them to calculate their sum. \n",
    "Here's an example:\n",
    "\n",
    "The calculate_sum function accepts *args as a parameter, which allows it to receive any number of positional arguments. \n",
    "These arguments are collected into a tuple called args.\n",
    "Inside the function, it initializes a variable total to zero.\n",
    "It then iterates through the elements in the args tuple, adding each numeric argument to the total variable.\n",
    "Finally, the function returns the total sum.\n",
    "You can call the calculate_sum function with any number of arguments, and it will calculate their sum. \n",
    "In the example usage, result1 and result2 are calculated sums of different sets of arguments.'''\n",
    "\n",
    "def calculate_sum(*args):\n",
    "    \"\"\"\n",
    "    Calculates the sum of a variable number of arguments.\n",
    "\n",
    "    Args:\n",
    "        *args (float or int): Variable number of numeric arguments.\n",
    "\n",
    "    Returns:\n",
    "        float or int: The sum of the input arguments.\n",
    "    \"\"\"\n",
    "    total = 0\n",
    "    for num in args:\n",
    "        total += num\n",
    "    return total\n",
    "\n",
    "# Example usage:\n",
    "result1 = calculate_sum(1, 2, 3)\n",
    "result2 = calculate_sum(4, 5, 6, 7, 8)\n",
    "\n",
    "print(result1)\n",
    "print(result2)\n"
   ]
  },
  {
   "cell_type": "markdown",
   "id": "19a310ce-1fb6-444f-b82f-d51520928563",
   "metadata": {},
   "source": [
    "5.What is the purpose of the `*args` and `**kwargs` syntax in function parameter lists?"
   ]
  },
  {
   "cell_type": "code",
   "execution_count": 5,
   "id": "6dc93495-ffbc-47b2-a9d3-47db1b1c4da4",
   "metadata": {},
   "outputs": [
    {
     "name": "stdout",
     "output_type": "stream",
     "text": [
      "name: Alice\n",
      "age: 30\n",
      "city: New York\n"
     ]
    }
   ],
   "source": [
    "'''In Python, the *args and **kwargs syntax in function parameter lists are used to work with a variable number of arguments and keyword arguments, respectively. \n",
    "They provide flexibility when defining functions that need to accept a varying number of inputs. Here's what each syntax is used for:\n",
    "\n",
    "*args (Arbitrary Positional Arguments):\n",
    "\n",
    "The *args syntax allows a function to accept a variable number of positional arguments.\n",
    "When you use *args in a function parameter list, it collects any additional positional arguments passed to the function into a tuple.\n",
    "You can use this tuple within the function to process and work with the arguments.\n",
    "It's often used when you want a function to be flexible and accept an arbitrary number of arguments.\n",
    "\n",
    "\n",
    "**kwargs (Arbitrary Keyword Arguments):\n",
    "\n",
    "The **kwargs syntax allows a function to accept a variable number of keyword arguments.\n",
    "When you use **kwargs in a function parameter list, it collects any additional keyword arguments passed to the function into a dictionary.\n",
    "You can use this dictionary within the function to process and work with the keyword arguments.\n",
    "It's often used when you want a function to be flexible and accept various keyword arguments without knowing their names in advance.'''\n",
    "\n",
    "def sum_numbers(*args):\n",
    "    total = 0\n",
    "    for num in args:\n",
    "        total += num\n",
    "    return total\n",
    "\n",
    "result = sum_numbers(1, 2, 3, 4)\n",
    "\n",
    "\n",
    "def print_info(**kwargs):\n",
    "    for key, value in kwargs.items():\n",
    "        print(f\"{key}: {value}\")\n",
    "\n",
    "print_info(name=\"Alice\", age=30, city=\"New York\")\n"
   ]
  },
  {
   "cell_type": "markdown",
   "id": "05f86a23-ea49-4587-8fb2-69a1ea0a625d",
   "metadata": {},
   "source": [
    "1.Describe the role of the `return` statement in Python functions and provide examples."
   ]
  },
  {
   "cell_type": "code",
   "execution_count": 9,
   "id": "b8e8e3d9-da58-434f-8d2a-34d5195bcf9e",
   "metadata": {},
   "outputs": [],
   "source": [
    "'''In Python, the return statement is used in functions to specify the value or values that the function should produce or yield as its result. It serves several important roles:\n",
    "\n",
    "Return a Value: The primary role of the return statement is to return a value or an expression's result from a function back to the caller. \n",
    "This allows you to use the function's output in other parts of your program.\n",
    "\n",
    "Termination: The return statement also serves as a way to terminate the execution of a function prematurely. \n",
    "When a return statement is encountered, the function exits immediately, and no further code within the function is executed.\n",
    "\n",
    "Here are some examples to illustrate the role of the return statement:'''\n",
    "\n",
    "# Example 1: Returning a single value\n",
    "def add(x, y):\n",
    "    result = x + y\n",
    "    return result\n",
    "\n",
    "sum_result = add(3, 5)  # sum_result will be 8\n",
    "\n",
    "# Example 2: Returning multiple values as a tuple\n",
    "def calculate_stats(numbers):\n",
    "    total = sum(numbers)\n",
    "    average = total / len(numbers)\n",
    "    return total, average\n",
    "\n",
    "stats = calculate_stats([10, 20, 30])\n",
    "# stats is a tuple containing total (60) and average (20.0)\n",
    "\n",
    "# Example 3: Using return to terminate early\n",
    "def is_even(x):\n",
    "    if x % 2 == 0:\n",
    "        return True  # The function exits here if x is even\n",
    "    return False     # This line is not executed for even numbers\n",
    "\n",
    "result1 = is_even(4)   # result1 is True\n",
    "result2 = is_even(7)   # result2 is False\n"
   ]
  },
  {
   "cell_type": "markdown",
   "id": "8a538d21-88fe-4e3e-8634-4c12ca9351d7",
   "metadata": {},
   "source": [
    "2.Explain the concept of variable scope in Python, including local and global variables."
   ]
  },
  {
   "cell_type": "code",
   "execution_count": 17,
   "id": "0d8266f7-4602-4cc6-8a57-cf9cd17552a7",
   "metadata": {},
   "outputs": [
    {
     "name": "stdout",
     "output_type": "stream",
     "text": [
      "10\n",
      "20\n",
      "60\n"
     ]
    }
   ],
   "source": [
    "''' Python has two main types of variable scope: local scope and global scope. Understanding these scopes is crucial for writing well-structured and bug-free code.\n",
    "\n",
    "Local Scope:\n",
    "\n",
    "Local scope refers to the region within a function where a variable is defined.\n",
    "Variables defined within a function are called local variables.\n",
    "Local variables are only accessible within the function that defines them and have no meaning outside of that function.\n",
    "Local variables are created when a function is called and destroyed when the function exits.\n",
    "Trying to access a local variable from outside the function or before it's defined inside the function will result in an error.\n",
    "\n",
    "Global Scope:\n",
    "\n",
    "Global scope refers to the outermost region of a Python program.\n",
    "Variables defined outside of any function, class, or block are called global variables.\n",
    "Global variables are accessible from anywhere in the program, including within functions.\n",
    "However, if you want to modify a global variable from within a function, you need to use the global keyword to indicate that you are working with the global variable, \n",
    "rather than creating a new local variable with the same name.\n",
    "\n",
    "\n",
    "Nested Scopes:\n",
    "\n",
    "Python allows for nested scopes, meaning you can have local scopes within other local or global scopes.\n",
    "When looking up a variable, Python first checks the local scope, then the enclosing (if any) function scopes, and finally the global scope.\n",
    "If a variable is not found in any of these scopes, Python raises a NameError.'''\n",
    "\n",
    "def my_function():\n",
    "    x = 10  # x is a local variable\n",
    "    print(x)\n",
    "\n",
    "my_function()  # Calling the function prints 10\n",
    "\n",
    "x1 = 10  # x is a global variable\n",
    "\n",
    "def my_function():\n",
    "    global x1  # Declare x as a global variable inside the function\n",
    "    x2 = 20  # Modifying the global x\n",
    "    print(x2) # The global x is now 20\n",
    "\n",
    "my_function()\n",
    "\n",
    "x3 = 10  # global variable\n",
    "\n",
    "def outer_function():\n",
    "    y = 20  # outer_function's local variable\n",
    "\n",
    "    def inner_function():\n",
    "        z = 30  # inner_function's local variable\n",
    "        print(x3 + y + z)  # Accessing variables from various scopes\n",
    "\n",
    "    inner_function()\n",
    "\n",
    "outer_function()  # Output: 60 (10 + 20 + 30)\n"
   ]
  },
  {
   "cell_type": "markdown",
   "id": "2584bdbc-61fa-4345-94dd-93d27a396bdc",
   "metadata": {},
   "source": [
    "3.Write a Python program that demonstrates the use of global variables within functions."
   ]
  },
  {
   "cell_type": "code",
   "execution_count": 19,
   "id": "5e2c7868-02c4-435e-8486-b021242d87e4",
   "metadata": {},
   "outputs": [
    {
     "name": "stdout",
     "output_type": "stream",
     "text": [
      "Initial value of global_variable: 10\n",
      "Modified value of global_variable: 20\n",
      "Accessing global_variable from inside a function: 20\n"
     ]
    }
   ],
   "source": [
    "# Define a global variable\n",
    "global_variable = 10\n",
    "\n",
    "def modify_global_variable():\n",
    "    # Access the global variable\n",
    "    global global_variable\n",
    "    \n",
    "    # Modify the global variable\n",
    "    global_variable = 20\n",
    "\n",
    "def access_global_variable():\n",
    "    # Access the global variable\n",
    "    print(\"Accessing global_variable from inside a function:\", global_variable)\n",
    "\n",
    "# Initial value of global_variable\n",
    "print(\"Initial value of global_variable:\", global_variable)\n",
    "\n",
    "# Call the function that modifies the global variable\n",
    "modify_global_variable()\n",
    "\n",
    "# Check the modified value of global_variable\n",
    "print(\"Modified value of global_variable:\", global_variable)\n",
    "\n",
    "# Call the function that accesses the global variable\n",
    "access_global_variable()\n"
   ]
  },
  {
   "cell_type": "markdown",
   "id": "dd242900-c03d-48d4-859b-4cec08759742",
   "metadata": {},
   "source": [
    "4.Create a Python function that calculates the factorial of a number and returns it."
   ]
  },
  {
   "cell_type": "code",
   "execution_count": 22,
   "id": "12e7fd95-21d8-4fe5-bfa0-a4e2dea71be6",
   "metadata": {},
   "outputs": [
    {
     "name": "stdout",
     "output_type": "stream",
     "text": [
      "Factorial of 6: 720\n"
     ]
    }
   ],
   "source": [
    "def factorial(n):\n",
    "    \"\"\"\n",
    "    Calculate the factorial of a non-negative integer.\n",
    "\n",
    "    Args:\n",
    "        n (int): The non-negative integer for which to calculate the factorial.\n",
    "\n",
    "    Returns:\n",
    "        int: The factorial of n.\n",
    "    \"\"\"\n",
    "    if n < 0:\n",
    "        raise ValueError(\"Factorial is not defined for negative numbers.\")\n",
    "    elif n == 0:\n",
    "        return 1  # 0! is defined as 1\n",
    "    else:\n",
    "        return n * factorial(n - 1)\n",
    "\n",
    "# Example usage:\n",
    "result = factorial(6)\n",
    "print(\"Factorial of 6:\", result)  # Output: 120\n"
   ]
  },
  {
   "cell_type": "markdown",
   "id": "6a829b7e-9931-4c82-91ce-6e250e5adc25",
   "metadata": {},
   "source": [
    "5.How can you access variables defined outside a function from within the function?"
   ]
  },
  {
   "cell_type": "markdown",
   "id": "46741ffe-32ff-456b-9cd7-ed507272d4bd",
   "metadata": {},
   "source": [
    "'''In Python, you can access variables defined outside a function from within the function by following these methods:\n",
    "\n",
    "Global Variables:\n",
    "\n",
    "global_variable = 42  # This is a global variable\n",
    "\n",
    "def access_global():\n",
    "    print(global_variable)  # Accessing the global variable\n",
    "\n",
    "access_global()  # Output: 42\n",
    "\n",
    "\n",
    "Using the global Keyword: \n",
    "\n",
    "global_variable = 42\n",
    "\n",
    "def modify_global():\n",
    "    global global_variable  # Declare global_variable as global\n",
    "    global_variable = 100\n",
    "\n",
    "modify_global()\n",
    "print(global_variable)  # Output: 100\n",
    "\n",
    "Function Parameters: \n",
    "\n",
    "outside_variable = 42\n",
    "\n",
    "def use_parameter(variable):\n",
    "    print(variable)  # Accessing the parameter\n",
    "\n",
    "use_parameter(outside_variable)  # Output: 42\n",
    "\n",
    "'''"
   ]
  },
  {
   "cell_type": "markdown",
   "id": "6b696ecc-4d7f-4b74-bd0c-5ba62c32eb77",
   "metadata": {},
   "source": [
    "1.What are lambda functions in Python, and when are they typically used?"
   ]
  },
  {
   "cell_type": "code",
   "execution_count": 1,
   "id": "f97db068-fd36-4d15-8e54-147472c29215",
   "metadata": {},
   "outputs": [
    {
     "name": "stdout",
     "output_type": "stream",
     "text": [
      "25\n"
     ]
    }
   ],
   "source": [
    "'''Lambda functions in Python, is also known as anonymous functions or lambda expressions, are a way to create small, unnamed functions without using the def keyword. \n",
    "Lambda functions are typically used in situations where you need a simple, one-line function for a short period, often for a specific task or operation.'''\n",
    "\n",
    "square = lambda x: x ** 2\n",
    "\n",
    "result = square(5)  \n",
    "print(result)\n"
   ]
  },
  {
   "cell_type": "markdown",
   "id": "a081914f-9d95-483e-bff7-7208d6054936",
   "metadata": {},
   "source": [
    "2.Write a Python program that uses lambda functions to sort a list of tuples based on the second element."
   ]
  },
  {
   "cell_type": "code",
   "execution_count": 2,
   "id": "d3280b22-69c5-480b-a89a-a7db9b20b791",
   "metadata": {},
   "outputs": [
    {
     "name": "stdout",
     "output_type": "stream",
     "text": [
      "Sorted data based on the second element:\n",
      "(1, 5)\n",
      "(2, 10)\n",
      "(3, 15)\n",
      "(4, 20)\n"
     ]
    }
   ],
   "source": [
    "# List of tuples\n",
    "data = [(3, 15), (1, 5), (2, 10), (4, 20)]\n",
    "\n",
    "sorted_data = sorted(data, key=lambda x: x[1])\n",
    "\n",
    "print(\"Sorted data based on the second element:\")\n",
    "for item in sorted_data:\n",
    "    print(item)\n"
   ]
  },
  {
   "cell_type": "markdown",
   "id": "c81ddee8-d9dc-4d85-887a-e3c702709789",
   "metadata": {},
   "source": [
    "3.Explain the concept of higher-order functions in Python, and provide an example."
   ]
  },
  {
   "cell_type": "code",
   "execution_count": 29,
   "id": "6b81ab41-3364-4349-9847-61f876a679d7",
   "metadata": {},
   "outputs": [
    {
     "name": "stdout",
     "output_type": "stream",
     "text": [
      "Result 1: 8\n",
      "Result 2: 6\n",
      "Result 3: 14\n"
     ]
    }
   ],
   "source": [
    "'''In Python, a higher-order function is a function that takes one or more functions as arguments or returns a function as its result. \n",
    "Essentially, it treats functions as first-class citizens, allowing you to use functions in the same way you would use any other data type, such as integers or strings. \n",
    "This concept is closely related to functional programming.\n",
    "\n",
    "Here are the key characteristics of higher-order functions:\n",
    "\n",
    "Functions as Arguments: Higher-order functions can accept other functions as arguments. \n",
    "These functions are often referred to as \"callback functions\" because they are called back by the higher-order function to perform specific tasks.\n",
    "\n",
    "Functions as Return Values: Higher-order functions can return functions as their results. \n",
    "This allows you to create and customize functions on the fly, making your code more flexible and reusable.\n",
    "\n",
    "Higher-order functions are useful for creating more abstract and reusable code, promoting separation of concerns, and implementing various functional programming paradigms.\n",
    "\n",
    "Here's an example of a higher-order function in Python:'''\n",
    "\n",
    "# Higher-order function: apply_operation\n",
    "def apply_operation(operation, x, y):\n",
    "    \"\"\"\n",
    "    Apply an operation (a function) to two operands.\n",
    "\n",
    "    Args:\n",
    "        operation (function): A binary operation function that takes two arguments.\n",
    "        x (int): The first operand.\n",
    "        y (int): The second operand.\n",
    "\n",
    "    Returns:\n",
    "        int: The result of applying the operation to x and y.\n",
    "    \"\"\"\n",
    "    return operation(x, y)\n",
    "\n",
    "# Binary operation functions\n",
    "def add(x, y):\n",
    "    return x + y\n",
    "\n",
    "def subtract(x, y):\n",
    "    return x - y\n",
    "\n",
    "def multiply(x, y):\n",
    "    return x * y\n",
    "\n",
    "# Example usage of the higher-order function\n",
    "result1 = apply_operation(add, 5, 3)        # result1 = 8\n",
    "result2 = apply_operation(subtract, 10, 4)  # result2 = 6\n",
    "result3 = apply_operation(multiply, 7, 2)   # result3 = 14\n",
    "\n",
    "print(\"Result 1:\", result1)\n",
    "print(\"Result 2:\", result2)\n",
    "print(\"Result 3:\", result3)\n"
   ]
  },
  {
   "cell_type": "markdown",
   "id": "8a1e0a7b-89a1-4305-80d8-62fde62414db",
   "metadata": {},
   "source": [
    "4.Create a Python function that takes a list of numbers and a function as arguments, applying the function to each element in the list."
   ]
  },
  {
   "cell_type": "code",
   "execution_count": 30,
   "id": "6788552a-1958-4346-800d-696553817ee3",
   "metadata": {},
   "outputs": [
    {
     "name": "stdout",
     "output_type": "stream",
     "text": [
      "Original Numbers: [1, 2, 3, 4, 5]\n",
      "Squared Numbers: [1, 4, 9, 16, 25]\n"
     ]
    }
   ],
   "source": [
    "def apply_function_to_list(numbers, func):\n",
    "    \"\"\"\n",
    "    Apply a given function to each element in a list of numbers.\n",
    "\n",
    "    Args:\n",
    "        numbers (list): List of numbers.\n",
    "        func (function): The function to apply to each element.\n",
    "\n",
    "    Returns:\n",
    "        list: A new list containing the results of applying the function to each element.\n",
    "    \"\"\"\n",
    "    result = []\n",
    "    for num in numbers:\n",
    "        result.append(func(num))\n",
    "    return result\n",
    "\n",
    "# Example usage:\n",
    "numbers = [1, 2, 3, 4, 5]\n",
    "\n",
    "# Define a sample function to be applied\n",
    "def square(x):\n",
    "    return x ** 2\n",
    "\n",
    "# Apply the square function to each element in the list\n",
    "squared_numbers = apply_function_to_list(numbers, square)\n",
    "\n",
    "print(\"Original Numbers:\", numbers)\n",
    "print(\"Squared Numbers:\", squared_numbers)\n"
   ]
  },
  {
   "cell_type": "markdown",
   "id": "1136ad47-4b85-4b44-b871-2d25c12adbdc",
   "metadata": {},
   "source": [
    "1.Describe the role of built-in functions like `len()`, `max()`, and `min()` in Python."
   ]
  },
  {
   "cell_type": "markdown",
   "id": "f287f1ae-0dd9-485b-97b0-eee7c4065874",
   "metadata": {},
   "source": [
    "'''len(iterable):\n",
    "\n",
    "Role: Calculates the length or the number of items in an iterable.\n",
    "Usage: It is used to determine how many elements are present in data structures like strings, lists, tuples, dictionaries, sets, and other iterable objects.\n",
    "\n",
    "max(iterable, [key=func,] [default=obj]):\n",
    "\n",
    "Role: Finds the maximum value in an iterable.\n",
    "Usage: It is commonly used to find the largest element in a collection of values, and you can provide an optional key function to specify how the maximum value is determined.\n",
    "\n",
    "\n",
    "min(iterable, [key=func,] [default=obj]):\n",
    "\n",
    "Role: Finds the minimum value in an iterable.\n",
    "Usage: It is used to find the smallest element in a collection of values, and you can provide an optional key function to specify how the minimum value is determined.'''"
   ]
  },
  {
   "cell_type": "markdown",
   "id": "daffbda9-048a-4fa3-a53e-a4f341a004fb",
   "metadata": {},
   "source": [
    "2.Write a Python program that uses the `map()` function to apply a function to each element of a list."
   ]
  },
  {
   "cell_type": "code",
   "execution_count": 31,
   "id": "46dce8c1-2974-4952-8c7d-1953968953e9",
   "metadata": {},
   "outputs": [
    {
     "name": "stdout",
     "output_type": "stream",
     "text": [
      "Original Numbers: [1, 2, 3, 4, 5]\n",
      "Doubled Numbers: [2, 4, 6, 8, 10]\n"
     ]
    }
   ],
   "source": [
    "# Define a function to double a number\n",
    "def double(x):\n",
    "    return x * 2\n",
    "\n",
    "# Create a list of numbers\n",
    "numbers = [1, 2, 3, 4, 5]\n",
    "\n",
    "# Use the map() function to apply the double function to each element in the list\n",
    "doubled_numbers = list(map(double, numbers))\n",
    "\n",
    "# Convert the result to a list (map returns an iterator in Python 3)\n",
    "# If you're using Python 2, you can omit the 'list' conversion\n",
    "# Python 2: doubled_numbers = map(double, numbers)\n",
    "\n",
    "# Print the original list and the result\n",
    "print(\"Original Numbers:\", numbers)\n",
    "print(\"Doubled Numbers:\", doubled_numbers)\n"
   ]
  },
  {
   "cell_type": "markdown",
   "id": "292170ae-5fbc-42cb-a08c-1da62155d035",
   "metadata": {},
   "source": [
    "3.How does the `filter()` function work in Python, and when would you use it?"
   ]
  },
  {
   "cell_type": "code",
   "execution_count": 3,
   "id": "c500290d-f5a5-4a6a-bfb1-3d2bcfdcf51a",
   "metadata": {},
   "outputs": [
    {
     "name": "stdout",
     "output_type": "stream",
     "text": [
      "Original Numbers: [1, 2, 3, 4, 5, 6, 7, 8, 9]\n",
      "Even Numbers: [2, 4, 6, 8]\n"
     ]
    }
   ],
   "source": [
    "'''The filter() function in Python is used to filter elements from an iterable (e.g., a list) based on a specified condition or predicate function. \n",
    "It returns a new iterable containing only the elements for which the condition is True. \n",
    "\n",
    "Here's how the filter() function works:\n",
    "\n",
    "filter(function, iterable)\n",
    "\n",
    "example'''\n",
    "\n",
    "def is_even(x):\n",
    "    return x % 2 == 0\n",
    "\n",
    "numbers = [1, 2, 3, 4, 5, 6, 7, 8, 9]\n",
    "\n",
    "even_numbers = list(filter(is_even, numbers))\n",
    "\n",
    "print(\"Original Numbers:\", numbers)\n",
    "print(\"Even Numbers:\", even_numbers)\n"
   ]
  },
  {
   "cell_type": "markdown",
   "id": "6dfaf22f-c883-43d8-b420-87dbce6b6cad",
   "metadata": {},
   "source": [
    "4.Create a Python program that uses the `reduce()` function to find the product of all elements in a list."
   ]
  },
  {
   "cell_type": "code",
   "execution_count": 4,
   "id": "651f99aa-ebb9-4c49-bccb-86e74d5dfa78",
   "metadata": {},
   "outputs": [
    {
     "name": "stdout",
     "output_type": "stream",
     "text": [
      "Product of Numbers: 120\n"
     ]
    }
   ],
   "source": [
    "from functools import reduce\n",
    "\n",
    "def product(x, y):\n",
    "    return x * y\n",
    "\n",
    "numbers = [1, 2, 3, 4, 5]\n",
    "product_of_numbers = reduce(product, numbers)\n",
    "\n",
    "print(\"Product of Numbers:\", product_of_numbers)\n"
   ]
  },
  {
   "cell_type": "markdown",
   "id": "3679c326-a387-483f-b282-d66c2ea06b6a",
   "metadata": {},
   "source": [
    "1.Explain the purpose of docstrings in Python functions and how to write them."
   ]
  },
  {
   "cell_type": "code",
   "execution_count": 6,
   "id": "497518b3-3657-4c02-847b-882efcbe055e",
   "metadata": {},
   "outputs": [],
   "source": [
    "'''In Python, a docstring (short for \"documentation string\") is a string literal that occurs as the first statement in a module, function, class, or method definition. \n",
    "The primary purpose of docstrings is to provide documentation and information about the code to make it more understandable, readable, and maintainable. \n",
    "Docstrings serve as a form of inline documentation, allowing developers to describe the purpose, \n",
    "usage, parameters, return values, and other details of a function or piece of code.'''\n",
    "\n",
    "def my_function(parameter1, parameter2):\n",
    "    \"\"\"\n",
    "    This is the docstring for my_function.\n",
    "\n",
    "    Args:\n",
    "        parameter1 (type): Description of parameter1.\n",
    "        parameter2 (type): Description of parameter2.\n",
    "\n",
    "    Returns:\n",
    "        type: Description of the return value.\n",
    "    \"\"\"\n",
    "    # Function implementation here\n"
   ]
  },
  {
   "cell_type": "markdown",
   "id": "157aea45-78f3-48fa-9a1f-7e9ecb835c49",
   "metadata": {},
   "source": [
    "2.Describe some best practices for naming functions and variables in Python, including naming conventions and guidelines."
   ]
  },
  {
   "cell_type": "markdown",
   "id": "61fdfeeb-5240-41e8-a619-a010e5b89441",
   "metadata": {},
   "source": [
    "'''Naming functions and variables in Python is crucial for writing clean, readable, and maintainable code. Adhering to naming conventions and guidelines ensures that your code is easy to understand not only by you but also by other developers who may work on your code. Here are some best practices for naming functions and variables in Python:\n",
    "\n",
    "Use Descriptive Names:\n",
    "\n",
    "Choose names that convey the purpose and meaning of the function or variable. Avoid cryptic or overly short names.\n",
    "\n",
    "Follow PEP 8:\n",
    "\n",
    "PEP 8 is the Python Enhancement Proposal that provides style guide recommendations for Python code. It is considered the standard for Python code formatting. Some key PEP 8 naming conventions include:\n",
    "Function names should be lowercase, with words separated by underscores (e.g., calculate_average_score).\n",
    "Variable names should also be lowercase with words separated by underscores (e.g., user_age).\n",
    "Constants should be in uppercase with underscores (e.g., MAX_VALUE).\n",
    "Class names should use CamelCase (also known as CapWords) with the first letter of each word capitalized (e.g., MyClass).\n",
    "\n",
    "\n",
    "Use Verb-Noun for Function Names:\n",
    "\n",
    "Functions should typically have names that start with a verb to indicate their action, followed by a noun that describes what the action operates on (e.g., get_user_name, calculate_total_cost).\n",
    "\n",
    "Be Consistent:\n",
    "\n",
    "Maintain consistency in your naming conventions throughout your codebase. If you use one naming style, stick with it.\n",
    "\n",
    "Avoid Single-letter Names:\n",
    "\n",
    "Avoid using single-letter variable names (e.g., x, i, j) unless they are used in a short and well-understood context (e.g., loop counters).\n",
    "Use Meaningful Variable Names:\n",
    "\n",
    "Variable names should reflect their purpose or content. For example, use first_name instead of fn or num_of_items instead of n.\n",
    "\n",
    "\n",
    "Avoid Reserved Words:\n",
    "\n",
    "Do not use Python reserved words (e.g., if, while, for, import) as variable or function names.\n",
    "\n",
    "\n",
    "Use Plural for Collections:\n",
    "\n",
    "If a variable represents a collection of items (e.g., a list or dictionary), use a plural form for its name (e.g., students instead of student).\n",
    "\n",
    "\n",
    "Prefixes or Suffixes for Clarity:\n",
    "\n",
    "In some cases, you can use prefixes or suffixes to clarify the purpose of a variable. \n",
    "For instance, you might use is_ to indicate a Boolean variable (e.g., is_active) or _count to indicate a variable storing a count (e.g., word_count).\n",
    "\n",
    "Avoid Ambiguity:\n",
    "\n",
    "Ensure that your names are not ambiguous and do not create confusion. It should be clear what a variable or function does without needing extensive comments.\n",
    "\n",
    "Use Meaningful Constants:\n",
    "\n",
    "When defining constants, use uppercase names to distinguish them from regular variables. Ensure they are descriptive (e.g., PI for the value of pi).\n",
    "\n",
    "\n",
    "Comments for Clarity, Not Redundancy:\n",
    "\n",
    "While clear naming is preferred, it's okay to use comments to provide additional context if the name alone is not sufficient to explain the purpose of a variable or function.\n",
    "\n",
    "\n",
    "Consider the Scope:\n",
    "\n",
    "Names should be chosen to reflect the scope and context in which they are used. Shorter names may be acceptable for local variables with limited scope,\n",
    "but longer, more descriptive names are preferable for variables with broader scope.'''"
   ]
  },
  {
   "cell_type": "code",
   "execution_count": null,
   "id": "58ce5094-13ac-4a80-8a1c-1eaa821a7b24",
   "metadata": {},
   "outputs": [],
   "source": []
  }
 ],
 "metadata": {
  "kernelspec": {
   "display_name": "Python 3 (ipykernel)",
   "language": "python",
   "name": "python3"
  },
  "language_info": {
   "codemirror_mode": {
    "name": "ipython",
    "version": 3
   },
   "file_extension": ".py",
   "mimetype": "text/x-python",
   "name": "python",
   "nbconvert_exporter": "python",
   "pygments_lexer": "ipython3",
   "version": "3.10.8"
  }
 },
 "nbformat": 4,
 "nbformat_minor": 5
}
